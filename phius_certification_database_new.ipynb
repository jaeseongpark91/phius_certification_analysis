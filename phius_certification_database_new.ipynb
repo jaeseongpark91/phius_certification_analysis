{
 "cells": [
  {
   "cell_type": "markdown",
   "metadata": {},
   "source": [
    "## Passive House Institute US Certification Case Analysis\n",
    "\n",
    "As a former PHIKO (Passive House Institute KOrea) researcher, I became interested in PHIUS (Passive House Institute United States) certification projects data. PHIUS provides its certification projects database information on [their website](https://www.phius.org/phius-certification-for-buildings-products/certified-projects-database)."
   ]
  },
  {
   "cell_type": "markdown",
   "metadata": {},
   "source": [
    "### Web scraping and Data organization\n",
    "The data is not stored in csv format therefore, to make the analysis convenient, I will web-scrape the data and transform it into dataframe format using BeautifulSoup library.\n",
    "<br>\n",
    "<br>\n",
    "<div>\n",
    "<img src=\"page.png\", width='1000'/>\n",
    "</div>\n",
    "<br>"
   ]
  },
  {
   "cell_type": "code",
   "execution_count": 13,
   "metadata": {},
   "outputs": [
    {
     "data": {
      "text/html": [
       "<div>\n",
       "<style scoped>\n",
       "    .dataframe tbody tr th:only-of-type {\n",
       "        vertical-align: middle;\n",
       "    }\n",
       "\n",
       "    .dataframe tbody tr th {\n",
       "        vertical-align: top;\n",
       "    }\n",
       "\n",
       "    .dataframe thead th {\n",
       "        text-align: right;\n",
       "    }\n",
       "</style>\n",
       "<table border=\"1\" class=\"dataframe\">\n",
       "  <thead>\n",
       "    <tr style=\"text-align: right;\">\n",
       "      <th></th>\n",
       "      <th>No.</th>\n",
       "      <th>Project</th>\n",
       "      <th>Status</th>\n",
       "      <th>Lead CPHC</th>\n",
       "      <th>Builder</th>\n",
       "      <th>Location</th>\n",
       "      <th>Const. type</th>\n",
       "      <th>Bldg. function</th>\n",
       "      <th>Floor area</th>\n",
       "      <th>Project type</th>\n",
       "      <th>Unnamed: 10</th>\n",
       "    </tr>\n",
       "  </thead>\n",
       "  <tbody>\n",
       "    <tr>\n",
       "      <th>0</th>\n",
       "      <td>1009</td>\n",
       "      <td>Center for Design Research (CDR)</td>\n",
       "      <td>Pre-certified</td>\n",
       "      <td>Ryan Abendroth</td>\n",
       "      <td>Studio 804 - Kansas University</td>\n",
       "      <td>Lawrence, KS</td>\n",
       "      <td>Timber</td>\n",
       "      <td>Government</td>\n",
       "      <td>2396.0</td>\n",
       "      <td>New Construction</td>\n",
       "      <td>NaN</td>\n",
       "    </tr>\n",
       "    <tr>\n",
       "      <th>1</th>\n",
       "      <td>1073</td>\n",
       "      <td>Hickory Hall</td>\n",
       "      <td>Pre-certified</td>\n",
       "      <td>Adam Cohen</td>\n",
       "      <td>Mod-U-Kraf</td>\n",
       "      <td>Emory , VA</td>\n",
       "      <td>Timber</td>\n",
       "      <td>Commercial</td>\n",
       "      <td>29248.0</td>\n",
       "      <td>New Construction</td>\n",
       "      <td>NaN</td>\n",
       "    </tr>\n",
       "    <tr>\n",
       "      <th>2</th>\n",
       "      <td>1077</td>\n",
       "      <td>HABITAT FOR THE 21ST CENTURY</td>\n",
       "      <td>Pre-certified</td>\n",
       "      <td>Robert Moore</td>\n",
       "      <td>Habitat for Humanity</td>\n",
       "      <td>Tacoma, WA</td>\n",
       "      <td>Timber</td>\n",
       "      <td>Single Family</td>\n",
       "      <td>1232.0</td>\n",
       "      <td>New Construction</td>\n",
       "      <td>NaN</td>\n",
       "    </tr>\n",
       "    <tr>\n",
       "      <th>3</th>\n",
       "      <td>1095</td>\n",
       "      <td>1202 Idaho Street</td>\n",
       "      <td>Pre-certified</td>\n",
       "      <td>Christopher Gonzales</td>\n",
       "      <td>Habitat for Humanity of Gallatin Valley</td>\n",
       "      <td>Belgrade, MT</td>\n",
       "      <td>Timber</td>\n",
       "      <td>Single Family</td>\n",
       "      <td>1604.0</td>\n",
       "      <td>New Construction</td>\n",
       "      <td>NaN</td>\n",
       "    </tr>\n",
       "    <tr>\n",
       "      <th>4</th>\n",
       "      <td>1117</td>\n",
       "      <td>The Passive-Agressive Home</td>\n",
       "      <td>Pre-certified</td>\n",
       "      <td>Vic Weber</td>\n",
       "      <td>Oak Tree Homes</td>\n",
       "      <td>Wilton, IA</td>\n",
       "      <td>Mixed timber-masonry</td>\n",
       "      <td>Single Family</td>\n",
       "      <td>3410.0</td>\n",
       "      <td>New Construction</td>\n",
       "      <td>NaN</td>\n",
       "    </tr>\n",
       "  </tbody>\n",
       "</table>\n",
       "</div>"
      ],
      "text/plain": [
       "    No.                           Project         Status  \\\n",
       "0  1009  Center for Design Research (CDR)  Pre-certified   \n",
       "1  1073                      Hickory Hall  Pre-certified   \n",
       "2  1077      HABITAT FOR THE 21ST CENTURY  Pre-certified   \n",
       "3  1095                 1202 Idaho Street  Pre-certified   \n",
       "4  1117        The Passive-Agressive Home  Pre-certified   \n",
       "\n",
       "              Lead CPHC                                  Builder  \\\n",
       "0        Ryan Abendroth           Studio 804 - Kansas University   \n",
       "1            Adam Cohen                               Mod-U-Kraf   \n",
       "2          Robert Moore                     Habitat for Humanity   \n",
       "3  Christopher Gonzales  Habitat for Humanity of Gallatin Valley   \n",
       "4             Vic Weber                           Oak Tree Homes   \n",
       "\n",
       "       Location           Const. type Bldg. function  Floor area  \\\n",
       "0  Lawrence, KS                Timber     Government      2396.0   \n",
       "1    Emory , VA                Timber     Commercial     29248.0   \n",
       "2    Tacoma, WA                Timber  Single Family      1232.0   \n",
       "3  Belgrade, MT                Timber  Single Family      1604.0   \n",
       "4    Wilton, IA  Mixed timber-masonry  Single Family      3410.0   \n",
       "\n",
       "       Project type  Unnamed: 10  \n",
       "0  New Construction          NaN  \n",
       "1  New Construction          NaN  \n",
       "2  New Construction          NaN  \n",
       "3  New Construction          NaN  \n",
       "4  New Construction          NaN  "
      ]
     },
     "execution_count": 13,
     "metadata": {},
     "output_type": "execute_result"
    }
   ],
   "source": [
    "import pandas as pd\n",
    "\n",
    "# read the page using pandas 'read_html'\n",
    "dfs = pd.read_html(\"https://www.phius.org/phius-certification-for-buildings-products/certified-projects-database\", header=0)\n",
    "table= dfs[0]\n",
    "\n",
    "# strip the Project name column \n",
    "table['Project'] = table['Project'].str.strip()\n",
    "\n",
    "# print the first five rows\n",
    "table.head()"
   ]
  },
  {
   "cell_type": "markdown",
   "metadata": {},
   "source": [
    "For the location analysis later, let's split the location data into 'state' and 'city' "
   ]
  },
  {
   "cell_type": "code",
   "execution_count": 14,
   "metadata": {},
   "outputs": [],
   "source": [
    "# Splitting Location column and extracting state and city data\n",
    "table['state'] = table['Location'].str.split(',').str[-1].str.strip()\n",
    "table['city'] = table['Location'].str.split(',').str[0].str.strip()"
   ]
  },
  {
   "cell_type": "markdown",
   "metadata": {},
   "source": [
    "By using pandas read_html function, we can easily create a dataframe for the page. However, for analysis purposes, 'Certification Date' data is crucial but it does not existed on the page. We can obtain this data by accessing the project name href. In order to access the project name href, I made a dictionary that contains the project name as a key and the web address as a value."
   ]
  },
  {
   "cell_type": "code",
   "execution_count": 15,
   "metadata": {},
   "outputs": [],
   "source": [
    "import bs4 as bs\n",
    "from bs4 import BeautifulSoup\n",
    "import urllib.request\n",
    "\n",
    "sauce = urllib.request.urlopen(\"https://www.phius.org/phius-certification-for-buildings-products/certified-projects-database\").read()\n",
    "soup = BeautifulSoup(sauce, 'lxml')\n",
    "\n",
    "# creating dict with project name as a key and link address as a value\n",
    "dic={}\n",
    "for a in soup.find_all('a', href=True):\n",
    "    dic[a.text] = a['href']\n",
    "\n",
    "# appending 'https://www.phius.org/'\n",
    "for i in dic:\n",
    "    dic[i] = 'https://www.phius.org/' + dic[i]"
   ]
  },
  {
   "cell_type": "markdown",
   "metadata": {},
   "source": [
    "I found some project names containing a blank space, hence I added a process to strip that useless space."
   ]
  },
  {
   "cell_type": "code",
   "execution_count": 16,
   "metadata": {},
   "outputs": [],
   "source": [
    "# strip the key in dict\n",
    "dict_striped = {}    \n",
    "for i in dic:\n",
    "    if i != i.strip():\n",
    "        dict_striped[i.strip()] = dic[i]\n",
    "    else:\n",
    "        dict_striped[i] = dic[i]"
   ]
  },
  {
   "cell_type": "markdown",
   "metadata": {},
   "source": [
    "Below shows the example page after entering the project name link.\n",
    "\n",
    "<img src=\"detail_page.png\">"
   ]
  },
  {
   "cell_type": "markdown",
   "metadata": {},
   "source": [
    "As you can see above, on the right bottom corner, there is a 'Certification Date' data. I will extract that data by using 'find_next.text' function."
   ]
  },
  {
   "cell_type": "code",
   "execution_count": 17,
   "metadata": {},
   "outputs": [
    {
     "ename": "URLError",
     "evalue": "<urlopen error [WinError 10060] A connection attempt failed because the connected party did not properly respond after a period of time, or established connection failed because connected host has failed to respond>",
     "output_type": "error",
     "traceback": [
      "\u001b[1;31m---------------------------------------------------------------------------\u001b[0m",
      "\u001b[1;31mTimeoutError\u001b[0m                              Traceback (most recent call last)",
      "\u001b[1;32mC:\\Users\\All Users\\Anaconda3\\lib\\urllib\\request.py\u001b[0m in \u001b[0;36mdo_open\u001b[1;34m(self, http_class, req, **http_conn_args)\u001b[0m\n\u001b[0;32m   1316\u001b[0m                 h.request(req.get_method(), req.selector, req.data, headers,\n\u001b[1;32m-> 1317\u001b[1;33m                           encode_chunked=req.has_header('Transfer-encoding'))\n\u001b[0m\u001b[0;32m   1318\u001b[0m             \u001b[1;32mexcept\u001b[0m \u001b[0mOSError\u001b[0m \u001b[1;32mas\u001b[0m \u001b[0merr\u001b[0m\u001b[1;33m:\u001b[0m \u001b[1;31m# timeout error\u001b[0m\u001b[1;33m\u001b[0m\u001b[1;33m\u001b[0m\u001b[0m\n",
      "\u001b[1;32mC:\\Users\\All Users\\Anaconda3\\lib\\http\\client.py\u001b[0m in \u001b[0;36mrequest\u001b[1;34m(self, method, url, body, headers, encode_chunked)\u001b[0m\n\u001b[0;32m   1228\u001b[0m         \u001b[1;34m\"\"\"Send a complete request to the server.\"\"\"\u001b[0m\u001b[1;33m\u001b[0m\u001b[1;33m\u001b[0m\u001b[0m\n\u001b[1;32m-> 1229\u001b[1;33m         \u001b[0mself\u001b[0m\u001b[1;33m.\u001b[0m\u001b[0m_send_request\u001b[0m\u001b[1;33m(\u001b[0m\u001b[0mmethod\u001b[0m\u001b[1;33m,\u001b[0m \u001b[0murl\u001b[0m\u001b[1;33m,\u001b[0m \u001b[0mbody\u001b[0m\u001b[1;33m,\u001b[0m \u001b[0mheaders\u001b[0m\u001b[1;33m,\u001b[0m \u001b[0mencode_chunked\u001b[0m\u001b[1;33m)\u001b[0m\u001b[1;33m\u001b[0m\u001b[1;33m\u001b[0m\u001b[0m\n\u001b[0m\u001b[0;32m   1230\u001b[0m \u001b[1;33m\u001b[0m\u001b[0m\n",
      "\u001b[1;32mC:\\Users\\All Users\\Anaconda3\\lib\\http\\client.py\u001b[0m in \u001b[0;36m_send_request\u001b[1;34m(self, method, url, body, headers, encode_chunked)\u001b[0m\n\u001b[0;32m   1274\u001b[0m             \u001b[0mbody\u001b[0m \u001b[1;33m=\u001b[0m \u001b[0m_encode\u001b[0m\u001b[1;33m(\u001b[0m\u001b[0mbody\u001b[0m\u001b[1;33m,\u001b[0m \u001b[1;34m'body'\u001b[0m\u001b[1;33m)\u001b[0m\u001b[1;33m\u001b[0m\u001b[1;33m\u001b[0m\u001b[0m\n\u001b[1;32m-> 1275\u001b[1;33m         \u001b[0mself\u001b[0m\u001b[1;33m.\u001b[0m\u001b[0mendheaders\u001b[0m\u001b[1;33m(\u001b[0m\u001b[0mbody\u001b[0m\u001b[1;33m,\u001b[0m \u001b[0mencode_chunked\u001b[0m\u001b[1;33m=\u001b[0m\u001b[0mencode_chunked\u001b[0m\u001b[1;33m)\u001b[0m\u001b[1;33m\u001b[0m\u001b[1;33m\u001b[0m\u001b[0m\n\u001b[0m\u001b[0;32m   1276\u001b[0m \u001b[1;33m\u001b[0m\u001b[0m\n",
      "\u001b[1;32mC:\\Users\\All Users\\Anaconda3\\lib\\http\\client.py\u001b[0m in \u001b[0;36mendheaders\u001b[1;34m(self, message_body, encode_chunked)\u001b[0m\n\u001b[0;32m   1223\u001b[0m             \u001b[1;32mraise\u001b[0m \u001b[0mCannotSendHeader\u001b[0m\u001b[1;33m(\u001b[0m\u001b[1;33m)\u001b[0m\u001b[1;33m\u001b[0m\u001b[1;33m\u001b[0m\u001b[0m\n\u001b[1;32m-> 1224\u001b[1;33m         \u001b[0mself\u001b[0m\u001b[1;33m.\u001b[0m\u001b[0m_send_output\u001b[0m\u001b[1;33m(\u001b[0m\u001b[0mmessage_body\u001b[0m\u001b[1;33m,\u001b[0m \u001b[0mencode_chunked\u001b[0m\u001b[1;33m=\u001b[0m\u001b[0mencode_chunked\u001b[0m\u001b[1;33m)\u001b[0m\u001b[1;33m\u001b[0m\u001b[1;33m\u001b[0m\u001b[0m\n\u001b[0m\u001b[0;32m   1225\u001b[0m \u001b[1;33m\u001b[0m\u001b[0m\n",
      "\u001b[1;32mC:\\Users\\All Users\\Anaconda3\\lib\\http\\client.py\u001b[0m in \u001b[0;36m_send_output\u001b[1;34m(self, message_body, encode_chunked)\u001b[0m\n\u001b[0;32m   1015\u001b[0m         \u001b[1;32mdel\u001b[0m \u001b[0mself\u001b[0m\u001b[1;33m.\u001b[0m\u001b[0m_buffer\u001b[0m\u001b[1;33m[\u001b[0m\u001b[1;33m:\u001b[0m\u001b[1;33m]\u001b[0m\u001b[1;33m\u001b[0m\u001b[1;33m\u001b[0m\u001b[0m\n\u001b[1;32m-> 1016\u001b[1;33m         \u001b[0mself\u001b[0m\u001b[1;33m.\u001b[0m\u001b[0msend\u001b[0m\u001b[1;33m(\u001b[0m\u001b[0mmsg\u001b[0m\u001b[1;33m)\u001b[0m\u001b[1;33m\u001b[0m\u001b[1;33m\u001b[0m\u001b[0m\n\u001b[0m\u001b[0;32m   1017\u001b[0m \u001b[1;33m\u001b[0m\u001b[0m\n",
      "\u001b[1;32mC:\\Users\\All Users\\Anaconda3\\lib\\http\\client.py\u001b[0m in \u001b[0;36msend\u001b[1;34m(self, data)\u001b[0m\n\u001b[0;32m    955\u001b[0m             \u001b[1;32mif\u001b[0m \u001b[0mself\u001b[0m\u001b[1;33m.\u001b[0m\u001b[0mauto_open\u001b[0m\u001b[1;33m:\u001b[0m\u001b[1;33m\u001b[0m\u001b[1;33m\u001b[0m\u001b[0m\n\u001b[1;32m--> 956\u001b[1;33m                 \u001b[0mself\u001b[0m\u001b[1;33m.\u001b[0m\u001b[0mconnect\u001b[0m\u001b[1;33m(\u001b[0m\u001b[1;33m)\u001b[0m\u001b[1;33m\u001b[0m\u001b[1;33m\u001b[0m\u001b[0m\n\u001b[0m\u001b[0;32m    957\u001b[0m             \u001b[1;32melse\u001b[0m\u001b[1;33m:\u001b[0m\u001b[1;33m\u001b[0m\u001b[1;33m\u001b[0m\u001b[0m\n",
      "\u001b[1;32mC:\\Users\\All Users\\Anaconda3\\lib\\http\\client.py\u001b[0m in \u001b[0;36mconnect\u001b[1;34m(self)\u001b[0m\n\u001b[0;32m   1383\u001b[0m \u001b[1;33m\u001b[0m\u001b[0m\n\u001b[1;32m-> 1384\u001b[1;33m             \u001b[0msuper\u001b[0m\u001b[1;33m(\u001b[0m\u001b[1;33m)\u001b[0m\u001b[1;33m.\u001b[0m\u001b[0mconnect\u001b[0m\u001b[1;33m(\u001b[0m\u001b[1;33m)\u001b[0m\u001b[1;33m\u001b[0m\u001b[1;33m\u001b[0m\u001b[0m\n\u001b[0m\u001b[0;32m   1385\u001b[0m \u001b[1;33m\u001b[0m\u001b[0m\n",
      "\u001b[1;32mC:\\Users\\All Users\\Anaconda3\\lib\\http\\client.py\u001b[0m in \u001b[0;36mconnect\u001b[1;34m(self)\u001b[0m\n\u001b[0;32m    927\u001b[0m         self.sock = self._create_connection(\n\u001b[1;32m--> 928\u001b[1;33m             (self.host,self.port), self.timeout, self.source_address)\n\u001b[0m\u001b[0;32m    929\u001b[0m         \u001b[0mself\u001b[0m\u001b[1;33m.\u001b[0m\u001b[0msock\u001b[0m\u001b[1;33m.\u001b[0m\u001b[0msetsockopt\u001b[0m\u001b[1;33m(\u001b[0m\u001b[0msocket\u001b[0m\u001b[1;33m.\u001b[0m\u001b[0mIPPROTO_TCP\u001b[0m\u001b[1;33m,\u001b[0m \u001b[0msocket\u001b[0m\u001b[1;33m.\u001b[0m\u001b[0mTCP_NODELAY\u001b[0m\u001b[1;33m,\u001b[0m \u001b[1;36m1\u001b[0m\u001b[1;33m)\u001b[0m\u001b[1;33m\u001b[0m\u001b[1;33m\u001b[0m\u001b[0m\n",
      "\u001b[1;32mC:\\Users\\All Users\\Anaconda3\\lib\\socket.py\u001b[0m in \u001b[0;36mcreate_connection\u001b[1;34m(address, timeout, source_address)\u001b[0m\n\u001b[0;32m    726\u001b[0m     \u001b[1;32mif\u001b[0m \u001b[0merr\u001b[0m \u001b[1;32mis\u001b[0m \u001b[1;32mnot\u001b[0m \u001b[1;32mNone\u001b[0m\u001b[1;33m:\u001b[0m\u001b[1;33m\u001b[0m\u001b[1;33m\u001b[0m\u001b[0m\n\u001b[1;32m--> 727\u001b[1;33m         \u001b[1;32mraise\u001b[0m \u001b[0merr\u001b[0m\u001b[1;33m\u001b[0m\u001b[1;33m\u001b[0m\u001b[0m\n\u001b[0m\u001b[0;32m    728\u001b[0m     \u001b[1;32melse\u001b[0m\u001b[1;33m:\u001b[0m\u001b[1;33m\u001b[0m\u001b[1;33m\u001b[0m\u001b[0m\n",
      "\u001b[1;32mC:\\Users\\All Users\\Anaconda3\\lib\\socket.py\u001b[0m in \u001b[0;36mcreate_connection\u001b[1;34m(address, timeout, source_address)\u001b[0m\n\u001b[0;32m    715\u001b[0m                 \u001b[0msock\u001b[0m\u001b[1;33m.\u001b[0m\u001b[0mbind\u001b[0m\u001b[1;33m(\u001b[0m\u001b[0msource_address\u001b[0m\u001b[1;33m)\u001b[0m\u001b[1;33m\u001b[0m\u001b[1;33m\u001b[0m\u001b[0m\n\u001b[1;32m--> 716\u001b[1;33m             \u001b[0msock\u001b[0m\u001b[1;33m.\u001b[0m\u001b[0mconnect\u001b[0m\u001b[1;33m(\u001b[0m\u001b[0msa\u001b[0m\u001b[1;33m)\u001b[0m\u001b[1;33m\u001b[0m\u001b[1;33m\u001b[0m\u001b[0m\n\u001b[0m\u001b[0;32m    717\u001b[0m             \u001b[1;31m# Break explicitly a reference cycle\u001b[0m\u001b[1;33m\u001b[0m\u001b[1;33m\u001b[0m\u001b[1;33m\u001b[0m\u001b[0m\n",
      "\u001b[1;31mTimeoutError\u001b[0m: [WinError 10060] A connection attempt failed because the connected party did not properly respond after a period of time, or established connection failed because connected host has failed to respond",
      "\nDuring handling of the above exception, another exception occurred:\n",
      "\u001b[1;31mURLError\u001b[0m                                  Traceback (most recent call last)",
      "\u001b[1;32m<ipython-input-17-42c2607294e1>\u001b[0m in \u001b[0;36m<module>\u001b[1;34m\u001b[0m\n\u001b[0;32m      3\u001b[0m \u001b[1;32mfor\u001b[0m \u001b[0mi\u001b[0m \u001b[1;32min\u001b[0m \u001b[0mtable\u001b[0m\u001b[1;33m[\u001b[0m\u001b[1;34m'Project'\u001b[0m\u001b[1;33m]\u001b[0m\u001b[1;33m:\u001b[0m\u001b[1;33m\u001b[0m\u001b[1;33m\u001b[0m\u001b[0m\n\u001b[0;32m      4\u001b[0m     \u001b[0murl\u001b[0m \u001b[1;33m=\u001b[0m \u001b[0mdict_striped\u001b[0m\u001b[1;33m[\u001b[0m\u001b[0mi\u001b[0m\u001b[1;33m]\u001b[0m\u001b[1;33m\u001b[0m\u001b[1;33m\u001b[0m\u001b[0m\n\u001b[1;32m----> 5\u001b[1;33m     \u001b[0msauce\u001b[0m \u001b[1;33m=\u001b[0m \u001b[0murllib\u001b[0m\u001b[1;33m.\u001b[0m\u001b[0mrequest\u001b[0m\u001b[1;33m.\u001b[0m\u001b[0murlopen\u001b[0m\u001b[1;33m(\u001b[0m\u001b[0murl\u001b[0m\u001b[1;33m)\u001b[0m\u001b[1;33m.\u001b[0m\u001b[0mread\u001b[0m\u001b[1;33m(\u001b[0m\u001b[1;33m)\u001b[0m\u001b[1;33m\u001b[0m\u001b[1;33m\u001b[0m\u001b[0m\n\u001b[0m\u001b[0;32m      6\u001b[0m     \u001b[0msoup\u001b[0m \u001b[1;33m=\u001b[0m \u001b[0mBeautifulSoup\u001b[0m\u001b[1;33m(\u001b[0m\u001b[0msauce\u001b[0m\u001b[1;33m,\u001b[0m \u001b[1;34m'lxml'\u001b[0m\u001b[1;33m)\u001b[0m\u001b[1;33m\u001b[0m\u001b[1;33m\u001b[0m\u001b[0m\n\u001b[0;32m      7\u001b[0m     \u001b[0mtd\u001b[0m \u001b[1;33m=\u001b[0m \u001b[0msoup\u001b[0m\u001b[1;33m.\u001b[0m\u001b[0mfind\u001b[0m\u001b[1;33m(\u001b[0m\u001b[1;34m\"th\"\u001b[0m\u001b[1;33m,\u001b[0m \u001b[0mtext\u001b[0m\u001b[1;33m=\u001b[0m\u001b[1;34m\"Certification Date\"\u001b[0m\u001b[1;33m)\u001b[0m\u001b[1;33m.\u001b[0m\u001b[0mfind_next\u001b[0m\u001b[1;33m(\u001b[0m\u001b[1;34m\"td\"\u001b[0m\u001b[1;33m)\u001b[0m\u001b[1;33m.\u001b[0m\u001b[0mtext\u001b[0m\u001b[1;33m\u001b[0m\u001b[1;33m\u001b[0m\u001b[0m\n",
      "\u001b[1;32mC:\\Users\\All Users\\Anaconda3\\lib\\urllib\\request.py\u001b[0m in \u001b[0;36murlopen\u001b[1;34m(url, data, timeout, cafile, capath, cadefault, context)\u001b[0m\n\u001b[0;32m    220\u001b[0m     \u001b[1;32melse\u001b[0m\u001b[1;33m:\u001b[0m\u001b[1;33m\u001b[0m\u001b[1;33m\u001b[0m\u001b[0m\n\u001b[0;32m    221\u001b[0m         \u001b[0mopener\u001b[0m \u001b[1;33m=\u001b[0m \u001b[0m_opener\u001b[0m\u001b[1;33m\u001b[0m\u001b[1;33m\u001b[0m\u001b[0m\n\u001b[1;32m--> 222\u001b[1;33m     \u001b[1;32mreturn\u001b[0m \u001b[0mopener\u001b[0m\u001b[1;33m.\u001b[0m\u001b[0mopen\u001b[0m\u001b[1;33m(\u001b[0m\u001b[0murl\u001b[0m\u001b[1;33m,\u001b[0m \u001b[0mdata\u001b[0m\u001b[1;33m,\u001b[0m \u001b[0mtimeout\u001b[0m\u001b[1;33m)\u001b[0m\u001b[1;33m\u001b[0m\u001b[1;33m\u001b[0m\u001b[0m\n\u001b[0m\u001b[0;32m    223\u001b[0m \u001b[1;33m\u001b[0m\u001b[0m\n\u001b[0;32m    224\u001b[0m \u001b[1;32mdef\u001b[0m \u001b[0minstall_opener\u001b[0m\u001b[1;33m(\u001b[0m\u001b[0mopener\u001b[0m\u001b[1;33m)\u001b[0m\u001b[1;33m:\u001b[0m\u001b[1;33m\u001b[0m\u001b[1;33m\u001b[0m\u001b[0m\n",
      "\u001b[1;32mC:\\Users\\All Users\\Anaconda3\\lib\\urllib\\request.py\u001b[0m in \u001b[0;36mopen\u001b[1;34m(self, fullurl, data, timeout)\u001b[0m\n\u001b[0;32m    523\u001b[0m             \u001b[0mreq\u001b[0m \u001b[1;33m=\u001b[0m \u001b[0mmeth\u001b[0m\u001b[1;33m(\u001b[0m\u001b[0mreq\u001b[0m\u001b[1;33m)\u001b[0m\u001b[1;33m\u001b[0m\u001b[1;33m\u001b[0m\u001b[0m\n\u001b[0;32m    524\u001b[0m \u001b[1;33m\u001b[0m\u001b[0m\n\u001b[1;32m--> 525\u001b[1;33m         \u001b[0mresponse\u001b[0m \u001b[1;33m=\u001b[0m \u001b[0mself\u001b[0m\u001b[1;33m.\u001b[0m\u001b[0m_open\u001b[0m\u001b[1;33m(\u001b[0m\u001b[0mreq\u001b[0m\u001b[1;33m,\u001b[0m \u001b[0mdata\u001b[0m\u001b[1;33m)\u001b[0m\u001b[1;33m\u001b[0m\u001b[1;33m\u001b[0m\u001b[0m\n\u001b[0m\u001b[0;32m    526\u001b[0m \u001b[1;33m\u001b[0m\u001b[0m\n\u001b[0;32m    527\u001b[0m         \u001b[1;31m# post-process response\u001b[0m\u001b[1;33m\u001b[0m\u001b[1;33m\u001b[0m\u001b[1;33m\u001b[0m\u001b[0m\n",
      "\u001b[1;32mC:\\Users\\All Users\\Anaconda3\\lib\\urllib\\request.py\u001b[0m in \u001b[0;36m_open\u001b[1;34m(self, req, data)\u001b[0m\n\u001b[0;32m    541\u001b[0m         \u001b[0mprotocol\u001b[0m \u001b[1;33m=\u001b[0m \u001b[0mreq\u001b[0m\u001b[1;33m.\u001b[0m\u001b[0mtype\u001b[0m\u001b[1;33m\u001b[0m\u001b[1;33m\u001b[0m\u001b[0m\n\u001b[0;32m    542\u001b[0m         result = self._call_chain(self.handle_open, protocol, protocol +\n\u001b[1;32m--> 543\u001b[1;33m                                   '_open', req)\n\u001b[0m\u001b[0;32m    544\u001b[0m         \u001b[1;32mif\u001b[0m \u001b[0mresult\u001b[0m\u001b[1;33m:\u001b[0m\u001b[1;33m\u001b[0m\u001b[1;33m\u001b[0m\u001b[0m\n\u001b[0;32m    545\u001b[0m             \u001b[1;32mreturn\u001b[0m \u001b[0mresult\u001b[0m\u001b[1;33m\u001b[0m\u001b[1;33m\u001b[0m\u001b[0m\n",
      "\u001b[1;32mC:\\Users\\All Users\\Anaconda3\\lib\\urllib\\request.py\u001b[0m in \u001b[0;36m_call_chain\u001b[1;34m(self, chain, kind, meth_name, *args)\u001b[0m\n\u001b[0;32m    501\u001b[0m         \u001b[1;32mfor\u001b[0m \u001b[0mhandler\u001b[0m \u001b[1;32min\u001b[0m \u001b[0mhandlers\u001b[0m\u001b[1;33m:\u001b[0m\u001b[1;33m\u001b[0m\u001b[1;33m\u001b[0m\u001b[0m\n\u001b[0;32m    502\u001b[0m             \u001b[0mfunc\u001b[0m \u001b[1;33m=\u001b[0m \u001b[0mgetattr\u001b[0m\u001b[1;33m(\u001b[0m\u001b[0mhandler\u001b[0m\u001b[1;33m,\u001b[0m \u001b[0mmeth_name\u001b[0m\u001b[1;33m)\u001b[0m\u001b[1;33m\u001b[0m\u001b[1;33m\u001b[0m\u001b[0m\n\u001b[1;32m--> 503\u001b[1;33m             \u001b[0mresult\u001b[0m \u001b[1;33m=\u001b[0m \u001b[0mfunc\u001b[0m\u001b[1;33m(\u001b[0m\u001b[1;33m*\u001b[0m\u001b[0margs\u001b[0m\u001b[1;33m)\u001b[0m\u001b[1;33m\u001b[0m\u001b[1;33m\u001b[0m\u001b[0m\n\u001b[0m\u001b[0;32m    504\u001b[0m             \u001b[1;32mif\u001b[0m \u001b[0mresult\u001b[0m \u001b[1;32mis\u001b[0m \u001b[1;32mnot\u001b[0m \u001b[1;32mNone\u001b[0m\u001b[1;33m:\u001b[0m\u001b[1;33m\u001b[0m\u001b[1;33m\u001b[0m\u001b[0m\n\u001b[0;32m    505\u001b[0m                 \u001b[1;32mreturn\u001b[0m \u001b[0mresult\u001b[0m\u001b[1;33m\u001b[0m\u001b[1;33m\u001b[0m\u001b[0m\n",
      "\u001b[1;32mC:\\Users\\All Users\\Anaconda3\\lib\\urllib\\request.py\u001b[0m in \u001b[0;36mhttps_open\u001b[1;34m(self, req)\u001b[0m\n\u001b[0;32m   1358\u001b[0m         \u001b[1;32mdef\u001b[0m \u001b[0mhttps_open\u001b[0m\u001b[1;33m(\u001b[0m\u001b[0mself\u001b[0m\u001b[1;33m,\u001b[0m \u001b[0mreq\u001b[0m\u001b[1;33m)\u001b[0m\u001b[1;33m:\u001b[0m\u001b[1;33m\u001b[0m\u001b[1;33m\u001b[0m\u001b[0m\n\u001b[0;32m   1359\u001b[0m             return self.do_open(http.client.HTTPSConnection, req,\n\u001b[1;32m-> 1360\u001b[1;33m                 context=self._context, check_hostname=self._check_hostname)\n\u001b[0m\u001b[0;32m   1361\u001b[0m \u001b[1;33m\u001b[0m\u001b[0m\n\u001b[0;32m   1362\u001b[0m         \u001b[0mhttps_request\u001b[0m \u001b[1;33m=\u001b[0m \u001b[0mAbstractHTTPHandler\u001b[0m\u001b[1;33m.\u001b[0m\u001b[0mdo_request_\u001b[0m\u001b[1;33m\u001b[0m\u001b[1;33m\u001b[0m\u001b[0m\n",
      "\u001b[1;32mC:\\Users\\All Users\\Anaconda3\\lib\\urllib\\request.py\u001b[0m in \u001b[0;36mdo_open\u001b[1;34m(self, http_class, req, **http_conn_args)\u001b[0m\n\u001b[0;32m   1317\u001b[0m                           encode_chunked=req.has_header('Transfer-encoding'))\n\u001b[0;32m   1318\u001b[0m             \u001b[1;32mexcept\u001b[0m \u001b[0mOSError\u001b[0m \u001b[1;32mas\u001b[0m \u001b[0merr\u001b[0m\u001b[1;33m:\u001b[0m \u001b[1;31m# timeout error\u001b[0m\u001b[1;33m\u001b[0m\u001b[1;33m\u001b[0m\u001b[0m\n\u001b[1;32m-> 1319\u001b[1;33m                 \u001b[1;32mraise\u001b[0m \u001b[0mURLError\u001b[0m\u001b[1;33m(\u001b[0m\u001b[0merr\u001b[0m\u001b[1;33m)\u001b[0m\u001b[1;33m\u001b[0m\u001b[1;33m\u001b[0m\u001b[0m\n\u001b[0m\u001b[0;32m   1320\u001b[0m             \u001b[0mr\u001b[0m \u001b[1;33m=\u001b[0m \u001b[0mh\u001b[0m\u001b[1;33m.\u001b[0m\u001b[0mgetresponse\u001b[0m\u001b[1;33m(\u001b[0m\u001b[1;33m)\u001b[0m\u001b[1;33m\u001b[0m\u001b[1;33m\u001b[0m\u001b[0m\n\u001b[0;32m   1321\u001b[0m         \u001b[1;32mexcept\u001b[0m\u001b[1;33m:\u001b[0m\u001b[1;33m\u001b[0m\u001b[1;33m\u001b[0m\u001b[0m\n",
      "\u001b[1;31mURLError\u001b[0m: <urlopen error [WinError 10060] A connection attempt failed because the connected party did not properly respond after a period of time, or established connection failed because connected host has failed to respond>"
     ]
    }
   ],
   "source": [
    "# Extracting \"Certification Date\" data\n",
    "project_year = {}\n",
    "for i in table['Project']:\n",
    "    url = dict_striped[i]\n",
    "    sauce = urllib.request.urlopen(url).read()\n",
    "    soup = BeautifulSoup(sauce, 'lxml')\n",
    "    td = soup.find(\"th\", text=\"Certification Date\").find_next(\"td\").text\n",
    "    project_year[i] = td"
   ]
  },
  {
   "cell_type": "markdown",
   "metadata": {},
   "source": [
    "The cerfitication date data is stored in the 'project_year' dictionary. Let's convert that dictionary into a list and append it on 'table' dataframe."
   ]
  },
  {
   "cell_type": "code",
   "execution_count": null,
   "metadata": {},
   "outputs": [],
   "source": [
    "# converting dictionary into a list\n",
    "certification_date = []\n",
    "for i in project_year:\n",
    "    certification_date.append(project_year[i])\n",
    "\n",
    "# appending 'Certification Date' data column to 'table' dataframe\n",
    "table['date'] = certification_date_column\n",
    "\n",
    "# extracting year data from 'date' column\n",
    "table['date'] = table['date'].str.split(n=3)\n",
    "table['year'] = table['date'].str[-1]\n",
    "\n",
    "table.head()"
   ]
  },
  {
   "cell_type": "markdown",
   "metadata": {},
   "source": [
    "Finally, we have a nice and clean dataset for the analysis."
   ]
  },
  {
   "cell_type": "markdown",
   "metadata": {},
   "source": [
    "### Data Visualization - Yearly Number of Project Cases"
   ]
  },
  {
   "cell_type": "code",
   "execution_count": 18,
   "metadata": {},
   "outputs": [],
   "source": [
    "import pandas as pd\n",
    "table = pd.read_csv('table.csv', encoding='unicode_escape')"
   ]
  },
  {
   "cell_type": "markdown",
   "metadata": {},
   "source": [
    "Comparing the features (e.g. building function, proejct type, and construction type) of Passivouse projects in Korea and US seems interesting. I created a yearly number of project case charts per each project feature."
   ]
  },
  {
   "cell_type": "code",
   "execution_count": 19,
   "metadata": {},
   "outputs": [
    {
     "data": {
      "text/plain": [
       "<matplotlib.legend.Legend at 0x1a70a22ff60>"
      ]
     },
     "execution_count": 19,
     "metadata": {},
     "output_type": "execute_result"
    },
    {
     "data": {
      "image/png": "[encoded data removed]",
      "text/plain": [
       "<Figure size 1080x504 with 1 Axes>"
      ]
     },
     "metadata": {
      "needs_background": "light"
     },
     "output_type": "display_data"
    }
   ],
   "source": [
    "import matplotlib.pyplot as plt\n",
    "%matplotlib inline\n",
    "\n",
    "# Create a plot describing the number of projects per year and per bldg. function \n",
    "# set the plot figure size\n",
    "fig, ax = plt.subplots(figsize=(15,7))\n",
    "\n",
    "# Create a stacked plot using groupby function\n",
    "table.groupby(['year','Bldg. function']).count()['No.'].unstack().plot(ax=ax, kind='bar', stacked=True, cmap='Set2')\n",
    "\n",
    "# set the plot title\n",
    "plt.title('Num of proejct per Bldg. function')\n",
    "\n",
    "# set the plot style\n",
    "plt.style.use('bmh')\n",
    "\n",
    "# reverse the legend order\n",
    "handles, labels = ax.get_legend_handles_labels()\n",
    "ax.legend(handles[::-1], labels[::-1], title='Bldg. function', loc='best')"
   ]
  },
  {
   "cell_type": "markdown",
   "metadata": {},
   "source": [
    "#### Building Function - Number of Project\n",
    "\n",
    "As you can see in the figure above, categorizing it with 'Building Function', most of them are 'Single Family' (62%) and the following are 'Multifamily' (28%), 'Commercial' (6%), 'Mixed-Use' (2%), 'School' (2%). As you can see in the graph above, during the period between 2018-2019, there is significant increase in 'Multifamily' projects even though there is not much of a difference in the 'Single Family' projects. The y-value means the number of \"projects\" not the number of \"buildings\". (For example, in the case of 'Washington Square Town Homes' project, although it consists of 24 units, we count it as one project.) "
   ]
  },
  {
   "cell_type": "code",
   "execution_count": 20,
   "metadata": {},
   "outputs": [
    {
     "data": {
      "text/plain": [
       "<matplotlib.legend.Legend at 0x1a70a22ff28>"
      ]
     },
     "execution_count": 20,
     "metadata": {},
     "output_type": "execute_result"
    },
    {
     "data": {
      "image/png": "[encoded data removed]",
      "text/plain": [
       "<Figure size 1080x504 with 1 Axes>"
      ]
     },
     "metadata": {
      "needs_background": "light"
     },
     "output_type": "display_data"
    }
   ],
   "source": [
    "# Create a plot describing the sum of floor area per projects per year and bldg. function \n",
    "# set the plot figure size\n",
    "fig, ax = plt.subplots(figsize=(15,7))\n",
    "\n",
    "# Create a stacked plot using groupby function\n",
    "table.groupby(['year','Bldg. function']).sum()['Floor area'].unstack().plot(ax=ax, kind='bar', stacked=True, cmap='Set2')\n",
    "\n",
    "# set the plot title\n",
    "plt.title('Num of proejct per Project Type')\n",
    "\n",
    "# set the plot style\n",
    "plt.style.use('bmh')\n",
    "\n",
    "# reverse the legend order\n",
    "handles, labels = ax.get_legend_handles_labels()\n",
    "ax.legend(handles[::-1], labels[::-1], title='Project type', loc='best')"
   ]
  },
  {
   "cell_type": "markdown",
   "metadata": {},
   "source": [
    "#### Building Function - Sum of floor area\n",
    "\n",
    "If we display the sum floor area grouping with building functions, we can clearly notice the increase in 'Multifamily' projects between 2018-2019. 'Multifamily' projects includes Duplex (2 unit), Quadruplex (4 unit), Townhouse (multi-unit), and Apartment Building (multi-unit). In the event of the 'Single Family' project, it is common that building owners develop the projects for living purposes and living in that building himself/ herself. (i.e. owner = resident). On the other hand, in the case of the 'Multifamily' project, the building owner develops the project for his/ her \"profit\" so the owner rents or sells them out (i.e. owner ≠ resident) afterwards.\n",
    "\n",
    "America is capitalism to the bone. It must be rare for an American developer to build a Passivehouse for their tanents' health benefit. After crunching numbers, economically it must have made ends meet for the owner (the developer). I suppose the economical advantages which the developer can take are federal and state government's tax benefit, heating & cooling cost saving, and marketing means for leasing or sales. I will look into it later."
   ]
  },
  {
   "cell_type": "code",
   "execution_count": 21,
   "metadata": {},
   "outputs": [
    {
     "data": {
      "text/plain": [
       "<matplotlib.legend.Legend at 0x1a70dd56978>"
      ]
     },
     "execution_count": 21,
     "metadata": {},
     "output_type": "execute_result"
    },
    {
     "data": {
      "image/png": "[encoded data removed]",
      "text/plain": [
       "<Figure size 1080x504 with 1 Axes>"
      ]
     },
     "metadata": {
      "needs_background": "light"
     },
     "output_type": "display_data"
    }
   ],
   "source": [
    "# Create a plot describing the number of projects per year and construction type \n",
    "# set the plot figure size\n",
    "fig, ax = plt.subplots(figsize=(15,7))\n",
    "\n",
    "# Create a stacked plot using groupby function\n",
    "table.groupby(['year','Const. type']).count()['No.'].unstack().plot(ax=ax, kind='bar', stacked=True, cmap='Set2')\n",
    "\n",
    "# set the plot title\n",
    "plt.title('Num of proejct per Construction Type')\n",
    "\n",
    "# set the plot style\n",
    "plt.style.use('bmh')\n",
    "\n",
    "# reverse the legend order\n",
    "handles, labels = ax.get_legend_handles_labels()\n",
    "ax.legend(handles[::-1], labels[::-1], title='Construction Type', loc='best')"
   ]
  },
  {
   "cell_type": "markdown",
   "metadata": {},
   "source": [
    "#### Construction Type\n",
    "\n",
    "I found the remarkable point is that there are not many 'Concrete' structures in the light of the fact that concrete structure has a high thermal storage performance. In the data above, majority of them is 'Timber' structure (69%) and the following are 'Mixed timber-masonry' (10%), 'Masonry'(4%), 'Insulated Concrete Forms'(4%), 'Autoclaved aerated concrete (AAC)' (2%) among total 393 projects (n/a: 12%). "
   ]
  },
  {
   "cell_type": "code",
   "execution_count": 22,
   "metadata": {},
   "outputs": [
    {
     "data": {
      "text/plain": [
       "<matplotlib.legend.Legend at 0x1a70e4547b8>"
      ]
     },
     "execution_count": 22,
     "metadata": {},
     "output_type": "execute_result"
    },
    {
     "data": {
      "image/png": "[encoded data removed]",
      "text/plain": [
       "<Figure size 1080x504 with 1 Axes>"
      ]
     },
     "metadata": {
      "needs_background": "light"
     },
     "output_type": "display_data"
    }
   ],
   "source": [
    "# Create a plot describing the number of projects per year and project type \n",
    "# set the plot figure size\n",
    "fig, ax = plt.subplots(figsize=(15,7))\n",
    "\n",
    "# Create a stacked plot using groupby function\n",
    "table.groupby(['year','Project type']).count()['No.'].unstack().plot(ax=ax, kind='bar', stacked=True, cmap='Set2')\n",
    "\n",
    "# set the plot title\n",
    "plt.title('Num of proejct per Project Type')\n",
    "\n",
    "# set the plot style\n",
    "plt.style.use('bmh')\n",
    "\n",
    "# reverse the legend order\n",
    "handles, labels = ax.get_legend_handles_labels()\n",
    "ax.legend(handles[::-1], labels[::-1], title='Project type', loc='best')"
   ]
  },
  {
   "cell_type": "markdown",
   "metadata": {},
   "source": [
    "#### Project Type\n",
    "\n",
    "Categorizing them with project type, most of them are 'New Construction' (92%) and the following are 'Retrofit' (5%), and 'Addition' (1%). In the light of the fact that numerous retrofit researches and policies for better building performance have been conducted globally, the proportion of the 'Retrofit' (5%) project is relatively low. We can speculate the reason by referring the PHIUS certification guide book. \n",
    "<br>\n",
    "<br>\n",
    "<div>\n",
    "<img src=\"retrofit_guidebook.png\", width='500'/>\n",
    "</div>\n",
    "<br>\n",
    "<br>\n",
    "\n",
    "Basically, the code for the retrofit project is same as new construction except for the foundation perimeter, which is hard to be corrected. In case of German PHI, they have distinct retrofit certification code which is 'Enerphit' and this is one of the difference in German PHI and American PHIUS."
   ]
  },
  {
   "cell_type": "markdown",
   "metadata": {},
   "source": [
    "### Data Visulaization - Choropleth Map"
   ]
  },
  {
   "cell_type": "markdown",
   "metadata": {},
   "source": [
    "I became curious 'Where in states the Passivehouse is popular?'. Let's visulaize it with Choropleth Map."
   ]
  },
  {
   "cell_type": "code",
   "execution_count": 23,
   "metadata": {},
   "outputs": [],
   "source": [
    "from plotly.offline import plot, iplot\n",
    "import plotly.graph_objs as go\n",
    "from plotly.offline import download_plotlyjs, init_notebook_mode"
   ]
  },
  {
   "cell_type": "markdown",
   "metadata": {},
   "source": [
    "Before creating the map, we need to add a column that contains number of projects in each state."
   ]
  },
  {
   "cell_type": "code",
   "execution_count": 24,
   "metadata": {},
   "outputs": [
    {
     "data": {
      "text/html": [
       "<div>\n",
       "<style scoped>\n",
       "    .dataframe tbody tr th:only-of-type {\n",
       "        vertical-align: middle;\n",
       "    }\n",
       "\n",
       "    .dataframe tbody tr th {\n",
       "        vertical-align: top;\n",
       "    }\n",
       "\n",
       "    .dataframe thead th {\n",
       "        text-align: right;\n",
       "    }\n",
       "</style>\n",
       "<table border=\"1\" class=\"dataframe\">\n",
       "  <thead>\n",
       "    <tr style=\"text-align: right;\">\n",
       "      <th></th>\n",
       "      <th>Unnamed: 0</th>\n",
       "      <th>No.</th>\n",
       "      <th>Project</th>\n",
       "      <th>Status</th>\n",
       "      <th>Lead CPHC</th>\n",
       "      <th>Builder</th>\n",
       "      <th>Location</th>\n",
       "      <th>Const. type</th>\n",
       "      <th>Bldg. function</th>\n",
       "      <th>Floor area</th>\n",
       "      <th>Project type</th>\n",
       "      <th>Unnamed: 10</th>\n",
       "      <th>date</th>\n",
       "      <th>year</th>\n",
       "      <th>month</th>\n",
       "      <th>state</th>\n",
       "      <th>city</th>\n",
       "      <th>state_count</th>\n",
       "    </tr>\n",
       "  </thead>\n",
       "  <tbody>\n",
       "    <tr>\n",
       "      <th>0</th>\n",
       "      <td>0</td>\n",
       "      <td>1009</td>\n",
       "      <td>Center for Design Research (CDR)</td>\n",
       "      <td>Pre-certified</td>\n",
       "      <td>Ryan Abendroth</td>\n",
       "      <td>Studio 804 - Kansas University</td>\n",
       "      <td>Lawrence, KS</td>\n",
       "      <td>Timber</td>\n",
       "      <td>Government</td>\n",
       "      <td>2396.0</td>\n",
       "      <td>New Construction</td>\n",
       "      <td>NaN</td>\n",
       "      <td>[]</td>\n",
       "      <td>NaN</td>\n",
       "      <td>NaN</td>\n",
       "      <td>KS</td>\n",
       "      <td>Lawrence</td>\n",
       "      <td>3.0</td>\n",
       "    </tr>\n",
       "    <tr>\n",
       "      <th>1</th>\n",
       "      <td>1</td>\n",
       "      <td>1073</td>\n",
       "      <td>Hickory Hall</td>\n",
       "      <td>Pre-certified</td>\n",
       "      <td>Adam Cohen</td>\n",
       "      <td>Mod-U-Kraf</td>\n",
       "      <td>Emory , VA</td>\n",
       "      <td>Timber</td>\n",
       "      <td>Commercial</td>\n",
       "      <td>29248.0</td>\n",
       "      <td>New Construction</td>\n",
       "      <td>NaN</td>\n",
       "      <td>[]</td>\n",
       "      <td>NaN</td>\n",
       "      <td>NaN</td>\n",
       "      <td>VA</td>\n",
       "      <td>Emory</td>\n",
       "      <td>20.0</td>\n",
       "    </tr>\n",
       "    <tr>\n",
       "      <th>2</th>\n",
       "      <td>2</td>\n",
       "      <td>1077</td>\n",
       "      <td>HABITAT FOR THE 21ST CENTURY</td>\n",
       "      <td>Pre-certified</td>\n",
       "      <td>Robert Moore</td>\n",
       "      <td>Habitat for Humanity</td>\n",
       "      <td>Tacoma, WA</td>\n",
       "      <td>Timber</td>\n",
       "      <td>Single Family</td>\n",
       "      <td>1232.0</td>\n",
       "      <td>New Construction</td>\n",
       "      <td>NaN</td>\n",
       "      <td>[]</td>\n",
       "      <td>NaN</td>\n",
       "      <td>NaN</td>\n",
       "      <td>WA</td>\n",
       "      <td>Tacoma</td>\n",
       "      <td>26.0</td>\n",
       "    </tr>\n",
       "    <tr>\n",
       "      <th>3</th>\n",
       "      <td>3</td>\n",
       "      <td>1095</td>\n",
       "      <td>1202 Idaho Street</td>\n",
       "      <td>Pre-certified</td>\n",
       "      <td>Christopher Gonzales</td>\n",
       "      <td>Habitat for Humanity of Gallatin Valley</td>\n",
       "      <td>Belgrade, MT</td>\n",
       "      <td>Timber</td>\n",
       "      <td>Single Family</td>\n",
       "      <td>1604.0</td>\n",
       "      <td>New Construction</td>\n",
       "      <td>NaN</td>\n",
       "      <td>[]</td>\n",
       "      <td>NaN</td>\n",
       "      <td>NaN</td>\n",
       "      <td>MT</td>\n",
       "      <td>Belgrade</td>\n",
       "      <td>1.0</td>\n",
       "    </tr>\n",
       "    <tr>\n",
       "      <th>4</th>\n",
       "      <td>4</td>\n",
       "      <td>1117</td>\n",
       "      <td>The Passive-Agressive Home</td>\n",
       "      <td>Pre-certified</td>\n",
       "      <td>Vic Weber</td>\n",
       "      <td>Oak Tree Homes</td>\n",
       "      <td>Wilton, IA</td>\n",
       "      <td>Mixed timber-masonry</td>\n",
       "      <td>Single Family</td>\n",
       "      <td>3410.0</td>\n",
       "      <td>New Construction</td>\n",
       "      <td>NaN</td>\n",
       "      <td>[]</td>\n",
       "      <td>NaN</td>\n",
       "      <td>NaN</td>\n",
       "      <td>IA</td>\n",
       "      <td>Wilton</td>\n",
       "      <td>5.0</td>\n",
       "    </tr>\n",
       "  </tbody>\n",
       "</table>\n",
       "</div>"
      ],
      "text/plain": [
       "   Unnamed: 0   No.                           Project         Status  \\\n",
       "0           0  1009  Center for Design Research (CDR)  Pre-certified   \n",
       "1           1  1073                      Hickory Hall  Pre-certified   \n",
       "2           2  1077      HABITAT FOR THE 21ST CENTURY  Pre-certified   \n",
       "3           3  1095                 1202 Idaho Street  Pre-certified   \n",
       "4           4  1117        The Passive-Agressive Home  Pre-certified   \n",
       "\n",
       "              Lead CPHC                                  Builder  \\\n",
       "0        Ryan Abendroth           Studio 804 - Kansas University   \n",
       "1            Adam Cohen                               Mod-U-Kraf   \n",
       "2          Robert Moore                     Habitat for Humanity   \n",
       "3  Christopher Gonzales  Habitat for Humanity of Gallatin Valley   \n",
       "4             Vic Weber                           Oak Tree Homes   \n",
       "\n",
       "       Location           Const. type Bldg. function  Floor area  \\\n",
       "0  Lawrence, KS                Timber     Government      2396.0   \n",
       "1    Emory , VA                Timber     Commercial     29248.0   \n",
       "2    Tacoma, WA                Timber  Single Family      1232.0   \n",
       "3  Belgrade, MT                Timber  Single Family      1604.0   \n",
       "4    Wilton, IA  Mixed timber-masonry  Single Family      3410.0   \n",
       "\n",
       "       Project type  Unnamed: 10 date  year month state      city  state_count  \n",
       "0  New Construction          NaN   []   NaN   NaN    KS  Lawrence          3.0  \n",
       "1  New Construction          NaN   []   NaN   NaN    VA     Emory         20.0  \n",
       "2  New Construction          NaN   []   NaN   NaN    WA    Tacoma         26.0  \n",
       "3  New Construction          NaN   []   NaN   NaN    MT  Belgrade          1.0  \n",
       "4  New Construction          NaN   []   NaN   NaN    IA    Wilton          5.0  "
      ]
     },
     "execution_count": 24,
     "metadata": {},
     "output_type": "execute_result"
    }
   ],
   "source": [
    "# creating a column containing the number of projects in each state\n",
    "table['state_count'] = table['No.'].groupby(table['state']).transform('count')\n",
    "table.head()"
   ]
  },
  {
   "cell_type": "code",
   "execution_count": 25,
   "metadata": {},
   "outputs": [
    {
     "data": {
      "application/vnd.plotly.v1+json": {
       "config": {
        "linkText": "Export to plot.ly",
        "plotlyServerURL": "https://plot.ly",
        "showLink": false
       },
       "data": [
        {
         "colorbar": {
          "title": {
           "text": "State Count"
          }
         },
         "colorscale": [
          [
           0,
           "rgb(255,245,240)"
          ],
          [
           0.125,
           "rgb(254,224,210)"
          ],
          [
           0.25,
           "rgb(252,187,161)"
          ],
          [
           0.375,
           "rgb(252,146,114)"
          ],
          [
           0.5,
           "rgb(251,106,74)"
          ],
          [
           0.625,
           "rgb(239,59,44)"
          ],
          [
           0.75,
           "rgb(203,24,29)"
          ],
          [
           0.875,
           "rgb(165,15,21)"
          ],
          [
           1,
           "rgb(103,0,13)"
          ]
         ],
         "locationmode": "USA-states",
         "locations": [
          "KS",
          "VA",
          "WA",
          "MT",
          "IA",
          "MD",
          "MI",
          "PA",
          "TX",
          "VA",
          "UT",
          "NY",
          "VA",
          "PA",
          "MD",
          "VA",
          "AZ",
          "WI",
          "NY",
          "VA",
          "KY",
          "PA",
          "NY",
          "NY",
          "NY",
          "KY",
          "PA",
          null,
          "PA",
          "PA",
          "PA",
          "PA",
          "CA",
          "PA",
          "UT",
          "PA",
          "PA",
          "PA",
          "MN",
          "NY",
          "BC",
          "NY",
          "ID",
          "NY",
          "WA",
          "WA",
          "NS",
          "IA",
          "PA",
          "PA",
          "PA",
          "PA",
          "NY",
          "NC",
          "NY",
          "CA",
          "NY",
          "PA",
          "NY",
          "ME",
          "PA",
          "NY",
          "NY",
          "NJ",
          "PA",
          "PA",
          "PA",
          "BC",
          "PA",
          "SD",
          "WA",
          "CT",
          "CT",
          "CT",
          "PA",
          "PA",
          "PA",
          "PA",
          "PA",
          "MN",
          "DC",
          "IL",
          "IL",
          "MA",
          "NY",
          "IL",
          "WA",
          "NY",
          "VA",
          "PA",
          "PA",
          "WA",
          "PA",
          "NY",
          "AB",
          "NH",
          "ME",
          "MA",
          "MI",
          "PA",
          "VA",
          "PA",
          "OR",
          "PA",
          "NJ",
          "IA",
          "NY",
          "UT",
          "PA",
          "OR",
          "WA",
          "NY",
          "NY",
          "IA",
          "NY",
          "ON",
          "MI",
          "VT",
          "PA",
          "QC",
          "MA",
          "MI",
          "NY",
          "IL",
          "PA",
          "IL",
          "VT",
          "IN",
          "PA",
          "PA",
          "PA",
          "PA",
          "PA",
          "PA",
          "PA",
          "NY",
          "WI",
          "IL",
          "PA",
          "MI",
          "ME",
          "ME",
          "ME",
          "PA",
          "UT",
          "OR",
          "CA",
          "ME",
          "OR",
          "NC",
          "ME",
          "VA",
          "KS",
          "IL",
          "VT",
          "NY",
          "MA",
          "CA",
          "MA",
          "IL",
          "IL",
          "IL",
          "IL",
          "IL",
          "IL",
          "IL",
          "MA",
          "MN",
          "LA",
          "WI",
          "VA",
          "MD",
          "VA",
          "NY",
          "UT",
          "KY",
          "OR",
          "CA",
          "VA",
          "NJ",
          "CA",
          "VA",
          "OR",
          "VT",
          "ME",
          "OR",
          "OR",
          "OR",
          "CA",
          "OH",
          "NC",
          "IL",
          "KY",
          "CA",
          "MD",
          "NS",
          "PA",
          "NC",
          "KY",
          "OH",
          "OR",
          "Gyeonggi-do South Korea",
          "OR",
          "ME",
          "DC",
          "MA",
          "CO",
          "OR",
          "BC",
          "NY",
          "TX",
          "ON",
          "VA",
          "NC",
          "OR",
          "VA",
          "OR",
          "VT",
          "WA",
          "DC",
          "CA",
          "CA",
          "PA",
          "DC",
          "CO",
          "CA",
          "KY",
          "KY",
          "ON",
          "VA",
          "VA",
          "CO",
          "VT",
          "AZ",
          "NS",
          "PA",
          "CA",
          "CT",
          "WA",
          "IL",
          "IL",
          "CA",
          "WA",
          "WA",
          "OR",
          "OR",
          "VA",
          "CA",
          "CA",
          "PA",
          "WA",
          "NY",
          "PA",
          "VA",
          "NY",
          "VA",
          "OR",
          "DC",
          "Japan",
          "WI",
          "NY",
          "NY",
          "NY",
          "NY",
          "NY",
          "NS",
          "NS",
          "CA",
          "WA",
          "ON",
          "NY",
          "CT",
          "WA",
          "UT",
          "VA",
          "WA",
          "MD",
          "UT",
          "NY",
          "IN",
          "IL",
          "ME",
          "NY",
          "OR",
          "OR",
          "RI",
          "NS",
          "MA",
          "MD",
          "NY",
          "RI",
          "WA",
          "WA",
          "VT",
          "CA",
          "ME",
          "WA",
          "MA",
          "WI",
          "WA",
          "ID",
          "ID",
          "MN",
          "KS",
          "IL",
          "OR",
          "PA",
          "NY",
          "NY",
          "VT",
          "NS",
          "NS",
          "CO",
          "NY",
          "OR",
          "PA",
          "OR",
          "OR",
          "VT",
          "PA",
          "NY",
          "NY",
          "CT",
          "VT",
          "ME",
          "IL",
          "OR",
          "NY",
          "NY",
          "SD",
          "PA",
          "RI",
          "NH",
          "VT",
          "IA",
          "NY",
          "QC",
          "WA",
          "WA",
          "IL",
          "NJ",
          "OH",
          "NS",
          "MA",
          "TX",
          "PA",
          "SD",
          "ME",
          "WA",
          "WA",
          "WA",
          "VT",
          "MA",
          "NY",
          "CO",
          "MI",
          "NY",
          "PA",
          "NS",
          "PE",
          "PE",
          "NY",
          "IL",
          "NY",
          "NY",
          "NY",
          "NY",
          "NY",
          "NY",
          "NY",
          "NY",
          "NY",
          "NY",
          "NY",
          "NJ",
          "WA",
          "WA",
          "NY",
          "IL",
          "UT",
          "NY",
          "NY",
          "NY",
          "MA",
          "AL",
          "IL",
          "MA",
          "NY",
          "UT",
          "ID",
          "VT",
          "UT",
          "NH"
         ],
         "text": [
          "KS",
          "VA",
          "WA",
          "MT",
          "IA",
          "MD",
          "MI",
          "PA",
          "TX",
          "VA",
          "UT",
          "NY",
          "VA",
          "PA",
          "MD",
          "VA",
          "AZ",
          "WI",
          "NY",
          "VA",
          "KY",
          "PA",
          "NY",
          "NY",
          "NY",
          "KY",
          "PA",
          null,
          "PA",
          "PA",
          "PA",
          "PA",
          "CA",
          "PA",
          "UT",
          "PA",
          "PA",
          "PA",
          "MN",
          "NY",
          "BC",
          "NY",
          "ID",
          "NY",
          "WA",
          "WA",
          "NS",
          "IA",
          "PA",
          "PA",
          "PA",
          "PA",
          "NY",
          "NC",
          "NY",
          "CA",
          "NY",
          "PA",
          "NY",
          "ME",
          "PA",
          "NY",
          "NY",
          "NJ",
          "PA",
          "PA",
          "PA",
          "BC",
          "PA",
          "SD",
          "WA",
          "CT",
          "CT",
          "CT",
          "PA",
          "PA",
          "PA",
          "PA",
          "PA",
          "MN",
          "DC",
          "IL",
          "IL",
          "MA",
          "NY",
          "IL",
          "WA",
          "NY",
          "VA",
          "PA",
          "PA",
          "WA",
          "PA",
          "NY",
          "AB",
          "NH",
          "ME",
          "MA",
          "MI",
          "PA",
          "VA",
          "PA",
          "OR",
          "PA",
          "NJ",
          "IA",
          "NY",
          "UT",
          "PA",
          "OR",
          "WA",
          "NY",
          "NY",
          "IA",
          "NY",
          "ON",
          "MI",
          "VT",
          "PA",
          "QC",
          "MA",
          "MI",
          "NY",
          "IL",
          "PA",
          "IL",
          "VT",
          "IN",
          "PA",
          "PA",
          "PA",
          "PA",
          "PA",
          "PA",
          "PA",
          "NY",
          "WI",
          "IL",
          "PA",
          "MI",
          "ME",
          "ME",
          "ME",
          "PA",
          "UT",
          "OR",
          "CA",
          "ME",
          "OR",
          "NC",
          "ME",
          "VA",
          "KS",
          "IL",
          "VT",
          "NY",
          "MA",
          "CA",
          "MA",
          "IL",
          "IL",
          "IL",
          "IL",
          "IL",
          "IL",
          "IL",
          "MA",
          "MN",
          "LA",
          "WI",
          "VA",
          "MD",
          "VA",
          "NY",
          "UT",
          "KY",
          "OR",
          "CA",
          "VA",
          "NJ",
          "CA",
          "VA",
          "OR",
          "VT",
          "ME",
          "OR",
          "OR",
          "OR",
          "CA",
          "OH",
          "NC",
          "IL",
          "KY",
          "CA",
          "MD",
          "NS",
          "PA",
          "NC",
          "KY",
          "OH",
          "OR",
          "Gyeonggi-do South Korea",
          "OR",
          "ME",
          "DC",
          "MA",
          "CO",
          "OR",
          "BC",
          "NY",
          "TX",
          "ON",
          "VA",
          "NC",
          "OR",
          "VA",
          "OR",
          "VT",
          "WA",
          "DC",
          "CA",
          "CA",
          "PA",
          "DC",
          "CO",
          "CA",
          "KY",
          "KY",
          "ON",
          "VA",
          "VA",
          "CO",
          "VT",
          "AZ",
          "NS",
          "PA",
          "CA",
          "CT",
          "WA",
          "IL",
          "IL",
          "CA",
          "WA",
          "WA",
          "OR",
          "OR",
          "VA",
          "CA",
          "CA",
          "PA",
          "WA",
          "NY",
          "PA",
          "VA",
          "NY",
          "VA",
          "OR",
          "DC",
          "Japan",
          "WI",
          "NY",
          "NY",
          "NY",
          "NY",
          "NY",
          "NS",
          "NS",
          "CA",
          "WA",
          "ON",
          "NY",
          "CT",
          "WA",
          "UT",
          "VA",
          "WA",
          "MD",
          "UT",
          "NY",
          "IN",
          "IL",
          "ME",
          "NY",
          "OR",
          "OR",
          "RI",
          "NS",
          "MA",
          "MD",
          "NY",
          "RI",
          "WA",
          "WA",
          "VT",
          "CA",
          "ME",
          "WA",
          "MA",
          "WI",
          "WA",
          "ID",
          "ID",
          "MN",
          "KS",
          "IL",
          "OR",
          "PA",
          "NY",
          "NY",
          "VT",
          "NS",
          "NS",
          "CO",
          "NY",
          "OR",
          "PA",
          "OR",
          "OR",
          "VT",
          "PA",
          "NY",
          "NY",
          "CT",
          "VT",
          "ME",
          "IL",
          "OR",
          "NY",
          "NY",
          "SD",
          "PA",
          "RI",
          "NH",
          "VT",
          "IA",
          "NY",
          "QC",
          "WA",
          "WA",
          "IL",
          "NJ",
          "OH",
          "NS",
          "MA",
          "TX",
          "PA",
          "SD",
          "ME",
          "WA",
          "WA",
          "WA",
          "VT",
          "MA",
          "NY",
          "CO",
          "MI",
          "NY",
          "PA",
          "NS",
          "PE",
          "PE",
          "NY",
          "IL",
          "NY",
          "NY",
          "NY",
          "NY",
          "NY",
          "NY",
          "NY",
          "NY",
          "NY",
          "NY",
          "NY",
          "NJ",
          "WA",
          "WA",
          "NY",
          "IL",
          "UT",
          "NY",
          "NY",
          "NY",
          "MA",
          "AL",
          "IL",
          "MA",
          "NY",
          "UT",
          "ID",
          "VT",
          "UT",
          "NH"
         ],
         "type": "choropleth",
         "z": [
          3,
          20,
          26,
          1,
          5,
          6,
          6,
          56,
          3,
          20,
          10,
          64,
          20,
          56,
          6,
          20,
          2,
          5,
          64,
          20,
          7,
          56,
          64,
          64,
          64,
          7,
          56,
          null,
          56,
          56,
          56,
          56,
          17,
          56,
          10,
          56,
          56,
          56,
          4,
          64,
          3,
          64,
          4,
          64,
          26,
          26,
          10,
          5,
          56,
          56,
          56,
          56,
          64,
          5,
          64,
          17,
          64,
          56,
          64,
          13,
          56,
          64,
          64,
          5,
          56,
          56,
          56,
          3,
          56,
          3,
          26,
          6,
          6,
          6,
          56,
          56,
          56,
          56,
          56,
          4,
          5,
          24,
          24,
          13,
          64,
          24,
          26,
          64,
          20,
          56,
          56,
          26,
          56,
          64,
          1,
          3,
          13,
          13,
          6,
          56,
          20,
          56,
          24,
          56,
          5,
          5,
          64,
          10,
          56,
          24,
          26,
          64,
          64,
          5,
          64,
          4,
          6,
          13,
          56,
          2,
          13,
          6,
          64,
          24,
          56,
          24,
          13,
          2,
          56,
          56,
          56,
          56,
          56,
          56,
          56,
          64,
          5,
          24,
          56,
          6,
          13,
          13,
          13,
          56,
          10,
          24,
          17,
          13,
          24,
          5,
          13,
          20,
          3,
          24,
          13,
          64,
          13,
          17,
          13,
          24,
          24,
          24,
          24,
          24,
          24,
          24,
          13,
          4,
          1,
          5,
          20,
          6,
          20,
          64,
          10,
          7,
          24,
          17,
          20,
          5,
          17,
          20,
          24,
          13,
          13,
          24,
          24,
          24,
          17,
          3,
          5,
          24,
          7,
          17,
          6,
          10,
          56,
          5,
          7,
          3,
          24,
          1,
          24,
          13,
          5,
          13,
          5,
          24,
          3,
          64,
          3,
          4,
          20,
          5,
          24,
          20,
          24,
          13,
          26,
          5,
          17,
          17,
          56,
          5,
          5,
          17,
          7,
          7,
          4,
          20,
          20,
          5,
          13,
          2,
          10,
          56,
          17,
          6,
          26,
          24,
          24,
          17,
          26,
          26,
          24,
          24,
          20,
          17,
          17,
          56,
          26,
          64,
          56,
          20,
          64,
          20,
          24,
          5,
          1,
          5,
          64,
          64,
          64,
          64,
          64,
          10,
          10,
          17,
          26,
          4,
          64,
          6,
          26,
          10,
          20,
          26,
          6,
          10,
          64,
          2,
          24,
          13,
          64,
          24,
          24,
          3,
          10,
          13,
          6,
          64,
          3,
          26,
          26,
          13,
          17,
          13,
          26,
          13,
          5,
          26,
          4,
          4,
          4,
          3,
          24,
          24,
          56,
          64,
          64,
          13,
          10,
          10,
          5,
          64,
          24,
          56,
          24,
          24,
          13,
          56,
          64,
          64,
          6,
          13,
          13,
          24,
          24,
          64,
          64,
          3,
          56,
          3,
          3,
          13,
          5,
          64,
          2,
          26,
          26,
          24,
          5,
          3,
          10,
          13,
          3,
          56,
          3,
          13,
          26,
          26,
          26,
          13,
          13,
          64,
          5,
          6,
          64,
          56,
          10,
          2,
          2,
          64,
          24,
          64,
          64,
          64,
          64,
          64,
          64,
          64,
          64,
          64,
          64,
          64,
          5,
          26,
          26,
          64,
          24,
          10,
          64,
          64,
          64,
          13,
          1,
          24,
          13,
          64,
          10,
          4,
          13,
          10,
          3
         ]
        }
       ],
       "layout": {
        "geo": {
         "scope": "usa"
        },
        "template": {
         "data": {
          "bar": [
           {
            "error_x": {
             "color": "#2a3f5f"
            },
            "error_y": {
             "color": "#2a3f5f"
            },
            "marker": {
             "line": {
              "color": "#E5ECF6",
              "width": 0.5
             }
            },
            "type": "bar"
           }
          ],
          "barpolar": [
           {
            "marker": {
             "line": {
              "color": "#E5ECF6",
              "width": 0.5
             }
            },
            "type": "barpolar"
           }
          ],
          "carpet": [
           {
            "aaxis": {
             "endlinecolor": "#2a3f5f",
             "gridcolor": "white",
             "linecolor": "white",
             "minorgridcolor": "white",
             "startlinecolor": "#2a3f5f"
            },
            "baxis": {
             "endlinecolor": "#2a3f5f",
             "gridcolor": "white",
             "linecolor": "white",
             "minorgridcolor": "white",
             "startlinecolor": "#2a3f5f"
            },
            "type": "carpet"
           }
          ],
          "choropleth": [
           {
            "colorbar": {
             "outlinewidth": 0,
             "ticks": ""
            },
            "type": "choropleth"
           }
          ],
          "contour": [
           {
            "colorbar": {
             "outlinewidth": 0,
             "ticks": ""
            },
            "colorscale": [
             [
              0,
              "#0d0887"
             ],
             [
              0.1111111111111111,
              "#46039f"
             ],
             [
              0.2222222222222222,
              "#7201a8"
             ],
             [
              0.3333333333333333,
              "#9c179e"
             ],
             [
              0.4444444444444444,
              "#bd3786"
             ],
             [
              0.5555555555555556,
              "#d8576b"
             ],
             [
              0.6666666666666666,
              "#ed7953"
             ],
             [
              0.7777777777777778,
              "#fb9f3a"
             ],
             [
              0.8888888888888888,
              "#fdca26"
             ],
             [
              1,
              "#f0f921"
             ]
            ],
            "type": "contour"
           }
          ],
          "contourcarpet": [
           {
            "colorbar": {
             "outlinewidth": 0,
             "ticks": ""
            },
            "type": "contourcarpet"
           }
          ],
          "heatmap": [
           {
            "colorbar": {
             "outlinewidth": 0,
             "ticks": ""
            },
            "colorscale": [
             [
              0,
              "#0d0887"
             ],
             [
              0.1111111111111111,
              "#46039f"
             ],
             [
              0.2222222222222222,
              "#7201a8"
             ],
             [
              0.3333333333333333,
              "#9c179e"
             ],
             [
              0.4444444444444444,
              "#bd3786"
             ],
             [
              0.5555555555555556,
              "#d8576b"
             ],
             [
              0.6666666666666666,
              "#ed7953"
             ],
             [
              0.7777777777777778,
              "#fb9f3a"
             ],
             [
              0.8888888888888888,
              "#fdca26"
             ],
             [
              1,
              "#f0f921"
             ]
            ],
            "type": "heatmap"
           }
          ],
          "heatmapgl": [
           {
            "colorbar": {
             "outlinewidth": 0,
             "ticks": ""
            },
            "colorscale": [
             [
              0,
              "#0d0887"
             ],
             [
              0.1111111111111111,
              "#46039f"
             ],
             [
              0.2222222222222222,
              "#7201a8"
             ],
             [
              0.3333333333333333,
              "#9c179e"
             ],
             [
              0.4444444444444444,
              "#bd3786"
             ],
             [
              0.5555555555555556,
              "#d8576b"
             ],
             [
              0.6666666666666666,
              "#ed7953"
             ],
             [
              0.7777777777777778,
              "#fb9f3a"
             ],
             [
              0.8888888888888888,
              "#fdca26"
             ],
             [
              1,
              "#f0f921"
             ]
            ],
            "type": "heatmapgl"
           }
          ],
          "histogram": [
           {
            "marker": {
             "colorbar": {
              "outlinewidth": 0,
              "ticks": ""
             }
            },
            "type": "histogram"
           }
          ],
          "histogram2d": [
           {
            "colorbar": {
             "outlinewidth": 0,
             "ticks": ""
            },
            "colorscale": [
             [
              0,
              "#0d0887"
             ],
             [
              0.1111111111111111,
              "#46039f"
             ],
             [
              0.2222222222222222,
              "#7201a8"
             ],
             [
              0.3333333333333333,
              "#9c179e"
             ],
             [
              0.4444444444444444,
              "#bd3786"
             ],
             [
              0.5555555555555556,
              "#d8576b"
             ],
             [
              0.6666666666666666,
              "#ed7953"
             ],
             [
              0.7777777777777778,
              "#fb9f3a"
             ],
             [
              0.8888888888888888,
              "#fdca26"
             ],
             [
              1,
              "#f0f921"
             ]
            ],
            "type": "histogram2d"
           }
          ],
          "histogram2dcontour": [
           {
            "colorbar": {
             "outlinewidth": 0,
             "ticks": ""
            },
            "colorscale": [
             [
              0,
              "#0d0887"
             ],
             [
              0.1111111111111111,
              "#46039f"
             ],
             [
              0.2222222222222222,
              "#7201a8"
             ],
             [
              0.3333333333333333,
              "#9c179e"
             ],
             [
              0.4444444444444444,
              "#bd3786"
             ],
             [
              0.5555555555555556,
              "#d8576b"
             ],
             [
              0.6666666666666666,
              "#ed7953"
             ],
             [
              0.7777777777777778,
              "#fb9f3a"
             ],
             [
              0.8888888888888888,
              "#fdca26"
             ],
             [
              1,
              "#f0f921"
             ]
            ],
            "type": "histogram2dcontour"
           }
          ],
          "mesh3d": [
           {
            "colorbar": {
             "outlinewidth": 0,
             "ticks": ""
            },
            "type": "mesh3d"
           }
          ],
          "parcoords": [
           {
            "line": {
             "colorbar": {
              "outlinewidth": 0,
              "ticks": ""
             }
            },
            "type": "parcoords"
           }
          ],
          "pie": [
           {
            "automargin": true,
            "type": "pie"
           }
          ],
          "scatter": [
           {
            "marker": {
             "colorbar": {
              "outlinewidth": 0,
              "ticks": ""
             }
            },
            "type": "scatter"
           }
          ],
          "scatter3d": [
           {
            "line": {
             "colorbar": {
              "outlinewidth": 0,
              "ticks": ""
             }
            },
            "marker": {
             "colorbar": {
              "outlinewidth": 0,
              "ticks": ""
             }
            },
            "type": "scatter3d"
           }
          ],
          "scattercarpet": [
           {
            "marker": {
             "colorbar": {
              "outlinewidth": 0,
              "ticks": ""
             }
            },
            "type": "scattercarpet"
           }
          ],
          "scattergeo": [
           {
            "marker": {
             "colorbar": {
              "outlinewidth": 0,
              "ticks": ""
             }
            },
            "type": "scattergeo"
           }
          ],
          "scattergl": [
           {
            "marker": {
             "colorbar": {
              "outlinewidth": 0,
              "ticks": ""
             }
            },
            "type": "scattergl"
           }
          ],
          "scattermapbox": [
           {
            "marker": {
             "colorbar": {
              "outlinewidth": 0,
              "ticks": ""
             }
            },
            "type": "scattermapbox"
           }
          ],
          "scatterpolar": [
           {
            "marker": {
             "colorbar": {
              "outlinewidth": 0,
              "ticks": ""
             }
            },
            "type": "scatterpolar"
           }
          ],
          "scatterpolargl": [
           {
            "marker": {
             "colorbar": {
              "outlinewidth": 0,
              "ticks": ""
             }
            },
            "type": "scatterpolargl"
           }
          ],
          "scatterternary": [
           {
            "marker": {
             "colorbar": {
              "outlinewidth": 0,
              "ticks": ""
             }
            },
            "type": "scatterternary"
           }
          ],
          "surface": [
           {
            "colorbar": {
             "outlinewidth": 0,
             "ticks": ""
            },
            "colorscale": [
             [
              0,
              "#0d0887"
             ],
             [
              0.1111111111111111,
              "#46039f"
             ],
             [
              0.2222222222222222,
              "#7201a8"
             ],
             [
              0.3333333333333333,
              "#9c179e"
             ],
             [
              0.4444444444444444,
              "#bd3786"
             ],
             [
              0.5555555555555556,
              "#d8576b"
             ],
             [
              0.6666666666666666,
              "#ed7953"
             ],
             [
              0.7777777777777778,
              "#fb9f3a"
             ],
             [
              0.8888888888888888,
              "#fdca26"
             ],
             [
              1,
              "#f0f921"
             ]
            ],
            "type": "surface"
           }
          ],
          "table": [
           {
            "cells": {
             "fill": {
              "color": "#EBF0F8"
             },
             "line": {
              "color": "white"
             }
            },
            "header": {
             "fill": {
              "color": "#C8D4E3"
             },
             "line": {
              "color": "white"
             }
            },
            "type": "table"
           }
          ]
         },
         "layout": {
          "annotationdefaults": {
           "arrowcolor": "#2a3f5f",
           "arrowhead": 0,
           "arrowwidth": 1
          },
          "coloraxis": {
           "colorbar": {
            "outlinewidth": 0,
            "ticks": ""
           }
          },
          "colorscale": {
           "diverging": [
            [
             0,
             "#8e0152"
            ],
            [
             0.1,
             "#c51b7d"
            ],
            [
             0.2,
             "#de77ae"
            ],
            [
             0.3,
             "#f1b6da"
            ],
            [
             0.4,
             "#fde0ef"
            ],
            [
             0.5,
             "#f7f7f7"
            ],
            [
             0.6,
             "#e6f5d0"
            ],
            [
             0.7,
             "#b8e186"
            ],
            [
             0.8,
             "#7fbc41"
            ],
            [
             0.9,
             "#4d9221"
            ],
            [
             1,
             "#276419"
            ]
           ],
           "sequential": [
            [
             0,
             "#0d0887"
            ],
            [
             0.1111111111111111,
             "#46039f"
            ],
            [
             0.2222222222222222,
             "#7201a8"
            ],
            [
             0.3333333333333333,
             "#9c179e"
            ],
            [
             0.4444444444444444,
             "#bd3786"
            ],
            [
             0.5555555555555556,
             "#d8576b"
            ],
            [
             0.6666666666666666,
             "#ed7953"
            ],
            [
             0.7777777777777778,
             "#fb9f3a"
            ],
            [
             0.8888888888888888,
             "#fdca26"
            ],
            [
             1,
             "#f0f921"
            ]
           ],
           "sequentialminus": [
            [
             0,
             "#0d0887"
            ],
            [
             0.1111111111111111,
             "#46039f"
            ],
            [
             0.2222222222222222,
             "#7201a8"
            ],
            [
             0.3333333333333333,
             "#9c179e"
            ],
            [
             0.4444444444444444,
             "#bd3786"
            ],
            [
             0.5555555555555556,
             "#d8576b"
            ],
            [
             0.6666666666666666,
             "#ed7953"
            ],
            [
             0.7777777777777778,
             "#fb9f3a"
            ],
            [
             0.8888888888888888,
             "#fdca26"
            ],
            [
             1,
             "#f0f921"
            ]
           ]
          },
          "colorway": [
           "#636efa",
           "#EF553B",
           "#00cc96",
           "#ab63fa",
           "#FFA15A",
           "#19d3f3",
           "#FF6692",
           "#B6E880",
           "#FF97FF",
           "#FECB52"
          ],
          "font": {
           "color": "#2a3f5f"
          },
          "geo": {
           "bgcolor": "white",
           "lakecolor": "white",
           "landcolor": "#E5ECF6",
           "showlakes": true,
           "showland": true,
           "subunitcolor": "white"
          },
          "hoverlabel": {
           "align": "left"
          },
          "hovermode": "closest",
          "mapbox": {
           "style": "light"
          },
          "paper_bgcolor": "white",
          "plot_bgcolor": "#E5ECF6",
          "polar": {
           "angularaxis": {
            "gridcolor": "white",
            "linecolor": "white",
            "ticks": ""
           },
           "bgcolor": "#E5ECF6",
           "radialaxis": {
            "gridcolor": "white",
            "linecolor": "white",
            "ticks": ""
           }
          },
          "scene": {
           "xaxis": {
            "backgroundcolor": "#E5ECF6",
            "gridcolor": "white",
            "gridwidth": 2,
            "linecolor": "white",
            "showbackground": true,
            "ticks": "",
            "zerolinecolor": "white"
           },
           "yaxis": {
            "backgroundcolor": "#E5ECF6",
            "gridcolor": "white",
            "gridwidth": 2,
            "linecolor": "white",
            "showbackground": true,
            "ticks": "",
            "zerolinecolor": "white"
           },
           "zaxis": {
            "backgroundcolor": "#E5ECF6",
            "gridcolor": "white",
            "gridwidth": 2,
            "linecolor": "white",
            "showbackground": true,
            "ticks": "",
            "zerolinecolor": "white"
           }
          },
          "shapedefaults": {
           "line": {
            "color": "#2a3f5f"
           }
          },
          "ternary": {
           "aaxis": {
            "gridcolor": "white",
            "linecolor": "white",
            "ticks": ""
           },
           "baxis": {
            "gridcolor": "white",
            "linecolor": "white",
            "ticks": ""
           },
           "bgcolor": "#E5ECF6",
           "caxis": {
            "gridcolor": "white",
            "linecolor": "white",
            "ticks": ""
           }
          },
          "title": {
           "x": 0.05
          },
          "xaxis": {
           "automargin": true,
           "gridcolor": "white",
           "linecolor": "white",
           "ticks": "",
           "title": {
            "standoff": 15
           },
           "zerolinecolor": "white",
           "zerolinewidth": 2
          },
          "yaxis": {
           "automargin": true,
           "gridcolor": "white",
           "linecolor": "white",
           "ticks": "",
           "title": {
            "standoff": 15
           },
           "zerolinecolor": "white",
           "zerolinewidth": 2
          }
         }
        },
        "title": {
         "text": "PHIUS Project Map"
        }
       }
      },
      "text/html": [
       "<div>\n",
       "        \n",
       "        \n",
       "            <div id=\"547899f1-17ca-4246-8a6f-4feb3941aef7\" class=\"plotly-graph-div\" style=\"height:525px; width:100%;\"></div>\n",
       "            <script type=\"text/javascript\">\n",
       "                require([\"plotly\"], function(Plotly) {\n",
       "                    window.PLOTLYENV=window.PLOTLYENV || {};\n",
       "                    \n",
       "                if (document.getElementById(\"547899f1-17ca-4246-8a6f-4feb3941aef7\")) {\n",
       "                    Plotly.newPlot(\n",
       "                        '547899f1-17ca-4246-8a6f-4feb3941aef7',\n",
       "                        [{\"colorbar\": {\"title\": {\"text\": \"State Count\"}}, \"colorscale\": [[0.0, \"rgb(255,245,240)\"], [0.125, \"rgb(254,224,210)\"], [0.25, \"rgb(252,187,161)\"], [0.375, \"rgb(252,146,114)\"], [0.5, \"rgb(251,106,74)\"], [0.625, \"rgb(239,59,44)\"], [0.75, \"rgb(203,24,29)\"], [0.875, \"rgb(165,15,21)\"], [1.0, \"rgb(103,0,13)\"]], \"locationmode\": \"USA-states\", \"locations\": [\"KS\", \"VA\", \"WA\", \"MT\", \"IA\", \"MD\", \"MI\", \"PA\", \"TX\", \"VA\", \"UT\", \"NY\", \"VA\", \"PA\", \"MD\", \"VA\", \"AZ\", \"WI\", \"NY\", \"VA\", \"KY\", \"PA\", \"NY\", \"NY\", \"NY\", \"KY\", \"PA\", null, \"PA\", \"PA\", \"PA\", \"PA\", \"CA\", \"PA\", \"UT\", \"PA\", \"PA\", \"PA\", \"MN\", \"NY\", \"BC\", \"NY\", \"ID\", \"NY\", \"WA\", \"WA\", \"NS\", \"IA\", \"PA\", \"PA\", \"PA\", \"PA\", \"NY\", \"NC\", \"NY\", \"CA\", \"NY\", \"PA\", \"NY\", \"ME\", \"PA\", \"NY\", \"NY\", \"NJ\", \"PA\", \"PA\", \"PA\", \"BC\", \"PA\", \"SD\", \"WA\", \"CT\", \"CT\", \"CT\", \"PA\", \"PA\", \"PA\", \"PA\", \"PA\", \"MN\", \"DC\", \"IL\", \"IL\", \"MA\", \"NY\", \"IL\", \"WA\", \"NY\", \"VA\", \"PA\", \"PA\", \"WA\", \"PA\", \"NY\", \"AB\", \"NH\", \"ME\", \"MA\", \"MI\", \"PA\", \"VA\", \"PA\", \"OR\", \"PA\", \"NJ\", \"IA\", \"NY\", \"UT\", \"PA\", \"OR\", \"WA\", \"NY\", \"NY\", \"IA\", \"NY\", \"ON\", \"MI\", \"VT\", \"PA\", \"QC\", \"MA\", \"MI\", \"NY\", \"IL\", \"PA\", \"IL\", \"VT\", \"IN\", \"PA\", \"PA\", \"PA\", \"PA\", \"PA\", \"PA\", \"PA\", \"NY\", \"WI\", \"IL\", \"PA\", \"MI\", \"ME\", \"ME\", \"ME\", \"PA\", \"UT\", \"OR\", \"CA\", \"ME\", \"OR\", \"NC\", \"ME\", \"VA\", \"KS\", \"IL\", \"VT\", \"NY\", \"MA\", \"CA\", \"MA\", \"IL\", \"IL\", \"IL\", \"IL\", \"IL\", \"IL\", \"IL\", \"MA\", \"MN\", \"LA\", \"WI\", \"VA\", \"MD\", \"VA\", \"NY\", \"UT\", \"KY\", \"OR\", \"CA\", \"VA\", \"NJ\", \"CA\", \"VA\", \"OR\", \"VT\", \"ME\", \"OR\", \"OR\", \"OR\", \"CA\", \"OH\", \"NC\", \"IL\", \"KY\", \"CA\", \"MD\", \"NS\", \"PA\", \"NC\", \"KY\", \"OH\", \"OR\", \"Gyeonggi-do South Korea\", \"OR\", \"ME\", \"DC\", \"MA\", \"CO\", \"OR\", \"BC\", \"NY\", \"TX\", \"ON\", \"VA\", \"NC\", \"OR\", \"VA\", \"OR\", \"VT\", \"WA\", \"DC\", \"CA\", \"CA\", \"PA\", \"DC\", \"CO\", \"CA\", \"KY\", \"KY\", \"ON\", \"VA\", \"VA\", \"CO\", \"VT\", \"AZ\", \"NS\", \"PA\", \"CA\", \"CT\", \"WA\", \"IL\", \"IL\", \"CA\", \"WA\", \"WA\", \"OR\", \"OR\", \"VA\", \"CA\", \"CA\", \"PA\", \"WA\", \"NY\", \"PA\", \"VA\", \"NY\", \"VA\", \"OR\", \"DC\", \"Japan\", \"WI\", \"NY\", \"NY\", \"NY\", \"NY\", \"NY\", \"NS\", \"NS\", \"CA\", \"WA\", \"ON\", \"NY\", \"CT\", \"WA\", \"UT\", \"VA\", \"WA\", \"MD\", \"UT\", \"NY\", \"IN\", \"IL\", \"ME\", \"NY\", \"OR\", \"OR\", \"RI\", \"NS\", \"MA\", \"MD\", \"NY\", \"RI\", \"WA\", \"WA\", \"VT\", \"CA\", \"ME\", \"WA\", \"MA\", \"WI\", \"WA\", \"ID\", \"ID\", \"MN\", \"KS\", \"IL\", \"OR\", \"PA\", \"NY\", \"NY\", \"VT\", \"NS\", \"NS\", \"CO\", \"NY\", \"OR\", \"PA\", \"OR\", \"OR\", \"VT\", \"PA\", \"NY\", \"NY\", \"CT\", \"VT\", \"ME\", \"IL\", \"OR\", \"NY\", \"NY\", \"SD\", \"PA\", \"RI\", \"NH\", \"VT\", \"IA\", \"NY\", \"QC\", \"WA\", \"WA\", \"IL\", \"NJ\", \"OH\", \"NS\", \"MA\", \"TX\", \"PA\", \"SD\", \"ME\", \"WA\", \"WA\", \"WA\", \"VT\", \"MA\", \"NY\", \"CO\", \"MI\", \"NY\", \"PA\", \"NS\", \"PE\", \"PE\", \"NY\", \"IL\", \"NY\", \"NY\", \"NY\", \"NY\", \"NY\", \"NY\", \"NY\", \"NY\", \"NY\", \"NY\", \"NY\", \"NJ\", \"WA\", \"WA\", \"NY\", \"IL\", \"UT\", \"NY\", \"NY\", \"NY\", \"MA\", \"AL\", \"IL\", \"MA\", \"NY\", \"UT\", \"ID\", \"VT\", \"UT\", \"NH\"], \"text\": [\"KS\", \"VA\", \"WA\", \"MT\", \"IA\", \"MD\", \"MI\", \"PA\", \"TX\", \"VA\", \"UT\", \"NY\", \"VA\", \"PA\", \"MD\", \"VA\", \"AZ\", \"WI\", \"NY\", \"VA\", \"KY\", \"PA\", \"NY\", \"NY\", \"NY\", \"KY\", \"PA\", null, \"PA\", \"PA\", \"PA\", \"PA\", \"CA\", \"PA\", \"UT\", \"PA\", \"PA\", \"PA\", \"MN\", \"NY\", \"BC\", \"NY\", \"ID\", \"NY\", \"WA\", \"WA\", \"NS\", \"IA\", \"PA\", \"PA\", \"PA\", \"PA\", \"NY\", \"NC\", \"NY\", \"CA\", \"NY\", \"PA\", \"NY\", \"ME\", \"PA\", \"NY\", \"NY\", \"NJ\", \"PA\", \"PA\", \"PA\", \"BC\", \"PA\", \"SD\", \"WA\", \"CT\", \"CT\", \"CT\", \"PA\", \"PA\", \"PA\", \"PA\", \"PA\", \"MN\", \"DC\", \"IL\", \"IL\", \"MA\", \"NY\", \"IL\", \"WA\", \"NY\", \"VA\", \"PA\", \"PA\", \"WA\", \"PA\", \"NY\", \"AB\", \"NH\", \"ME\", \"MA\", \"MI\", \"PA\", \"VA\", \"PA\", \"OR\", \"PA\", \"NJ\", \"IA\", \"NY\", \"UT\", \"PA\", \"OR\", \"WA\", \"NY\", \"NY\", \"IA\", \"NY\", \"ON\", \"MI\", \"VT\", \"PA\", \"QC\", \"MA\", \"MI\", \"NY\", \"IL\", \"PA\", \"IL\", \"VT\", \"IN\", \"PA\", \"PA\", \"PA\", \"PA\", \"PA\", \"PA\", \"PA\", \"NY\", \"WI\", \"IL\", \"PA\", \"MI\", \"ME\", \"ME\", \"ME\", \"PA\", \"UT\", \"OR\", \"CA\", \"ME\", \"OR\", \"NC\", \"ME\", \"VA\", \"KS\", \"IL\", \"VT\", \"NY\", \"MA\", \"CA\", \"MA\", \"IL\", \"IL\", \"IL\", \"IL\", \"IL\", \"IL\", \"IL\", \"MA\", \"MN\", \"LA\", \"WI\", \"VA\", \"MD\", \"VA\", \"NY\", \"UT\", \"KY\", \"OR\", \"CA\", \"VA\", \"NJ\", \"CA\", \"VA\", \"OR\", \"VT\", \"ME\", \"OR\", \"OR\", \"OR\", \"CA\", \"OH\", \"NC\", \"IL\", \"KY\", \"CA\", \"MD\", \"NS\", \"PA\", \"NC\", \"KY\", \"OH\", \"OR\", \"Gyeonggi-do South Korea\", \"OR\", \"ME\", \"DC\", \"MA\", \"CO\", \"OR\", \"BC\", \"NY\", \"TX\", \"ON\", \"VA\", \"NC\", \"OR\", \"VA\", \"OR\", \"VT\", \"WA\", \"DC\", \"CA\", \"CA\", \"PA\", \"DC\", \"CO\", \"CA\", \"KY\", \"KY\", \"ON\", \"VA\", \"VA\", \"CO\", \"VT\", \"AZ\", \"NS\", \"PA\", \"CA\", \"CT\", \"WA\", \"IL\", \"IL\", \"CA\", \"WA\", \"WA\", \"OR\", \"OR\", \"VA\", \"CA\", \"CA\", \"PA\", \"WA\", \"NY\", \"PA\", \"VA\", \"NY\", \"VA\", \"OR\", \"DC\", \"Japan\", \"WI\", \"NY\", \"NY\", \"NY\", \"NY\", \"NY\", \"NS\", \"NS\", \"CA\", \"WA\", \"ON\", \"NY\", \"CT\", \"WA\", \"UT\", \"VA\", \"WA\", \"MD\", \"UT\", \"NY\", \"IN\", \"IL\", \"ME\", \"NY\", \"OR\", \"OR\", \"RI\", \"NS\", \"MA\", \"MD\", \"NY\", \"RI\", \"WA\", \"WA\", \"VT\", \"CA\", \"ME\", \"WA\", \"MA\", \"WI\", \"WA\", \"ID\", \"ID\", \"MN\", \"KS\", \"IL\", \"OR\", \"PA\", \"NY\", \"NY\", \"VT\", \"NS\", \"NS\", \"CO\", \"NY\", \"OR\", \"PA\", \"OR\", \"OR\", \"VT\", \"PA\", \"NY\", \"NY\", \"CT\", \"VT\", \"ME\", \"IL\", \"OR\", \"NY\", \"NY\", \"SD\", \"PA\", \"RI\", \"NH\", \"VT\", \"IA\", \"NY\", \"QC\", \"WA\", \"WA\", \"IL\", \"NJ\", \"OH\", \"NS\", \"MA\", \"TX\", \"PA\", \"SD\", \"ME\", \"WA\", \"WA\", \"WA\", \"VT\", \"MA\", \"NY\", \"CO\", \"MI\", \"NY\", \"PA\", \"NS\", \"PE\", \"PE\", \"NY\", \"IL\", \"NY\", \"NY\", \"NY\", \"NY\", \"NY\", \"NY\", \"NY\", \"NY\", \"NY\", \"NY\", \"NY\", \"NJ\", \"WA\", \"WA\", \"NY\", \"IL\", \"UT\", \"NY\", \"NY\", \"NY\", \"MA\", \"AL\", \"IL\", \"MA\", \"NY\", \"UT\", \"ID\", \"VT\", \"UT\", \"NH\"], \"type\": \"choropleth\", \"z\": [3.0, 20.0, 26.0, 1.0, 5.0, 6.0, 6.0, 56.0, 3.0, 20.0, 10.0, 64.0, 20.0, 56.0, 6.0, 20.0, 2.0, 5.0, 64.0, 20.0, 7.0, 56.0, 64.0, 64.0, 64.0, 7.0, 56.0, null, 56.0, 56.0, 56.0, 56.0, 17.0, 56.0, 10.0, 56.0, 56.0, 56.0, 4.0, 64.0, 3.0, 64.0, 4.0, 64.0, 26.0, 26.0, 10.0, 5.0, 56.0, 56.0, 56.0, 56.0, 64.0, 5.0, 64.0, 17.0, 64.0, 56.0, 64.0, 13.0, 56.0, 64.0, 64.0, 5.0, 56.0, 56.0, 56.0, 3.0, 56.0, 3.0, 26.0, 6.0, 6.0, 6.0, 56.0, 56.0, 56.0, 56.0, 56.0, 4.0, 5.0, 24.0, 24.0, 13.0, 64.0, 24.0, 26.0, 64.0, 20.0, 56.0, 56.0, 26.0, 56.0, 64.0, 1.0, 3.0, 13.0, 13.0, 6.0, 56.0, 20.0, 56.0, 24.0, 56.0, 5.0, 5.0, 64.0, 10.0, 56.0, 24.0, 26.0, 64.0, 64.0, 5.0, 64.0, 4.0, 6.0, 13.0, 56.0, 2.0, 13.0, 6.0, 64.0, 24.0, 56.0, 24.0, 13.0, 2.0, 56.0, 56.0, 56.0, 56.0, 56.0, 56.0, 56.0, 64.0, 5.0, 24.0, 56.0, 6.0, 13.0, 13.0, 13.0, 56.0, 10.0, 24.0, 17.0, 13.0, 24.0, 5.0, 13.0, 20.0, 3.0, 24.0, 13.0, 64.0, 13.0, 17.0, 13.0, 24.0, 24.0, 24.0, 24.0, 24.0, 24.0, 24.0, 13.0, 4.0, 1.0, 5.0, 20.0, 6.0, 20.0, 64.0, 10.0, 7.0, 24.0, 17.0, 20.0, 5.0, 17.0, 20.0, 24.0, 13.0, 13.0, 24.0, 24.0, 24.0, 17.0, 3.0, 5.0, 24.0, 7.0, 17.0, 6.0, 10.0, 56.0, 5.0, 7.0, 3.0, 24.0, 1.0, 24.0, 13.0, 5.0, 13.0, 5.0, 24.0, 3.0, 64.0, 3.0, 4.0, 20.0, 5.0, 24.0, 20.0, 24.0, 13.0, 26.0, 5.0, 17.0, 17.0, 56.0, 5.0, 5.0, 17.0, 7.0, 7.0, 4.0, 20.0, 20.0, 5.0, 13.0, 2.0, 10.0, 56.0, 17.0, 6.0, 26.0, 24.0, 24.0, 17.0, 26.0, 26.0, 24.0, 24.0, 20.0, 17.0, 17.0, 56.0, 26.0, 64.0, 56.0, 20.0, 64.0, 20.0, 24.0, 5.0, 1.0, 5.0, 64.0, 64.0, 64.0, 64.0, 64.0, 10.0, 10.0, 17.0, 26.0, 4.0, 64.0, 6.0, 26.0, 10.0, 20.0, 26.0, 6.0, 10.0, 64.0, 2.0, 24.0, 13.0, 64.0, 24.0, 24.0, 3.0, 10.0, 13.0, 6.0, 64.0, 3.0, 26.0, 26.0, 13.0, 17.0, 13.0, 26.0, 13.0, 5.0, 26.0, 4.0, 4.0, 4.0, 3.0, 24.0, 24.0, 56.0, 64.0, 64.0, 13.0, 10.0, 10.0, 5.0, 64.0, 24.0, 56.0, 24.0, 24.0, 13.0, 56.0, 64.0, 64.0, 6.0, 13.0, 13.0, 24.0, 24.0, 64.0, 64.0, 3.0, 56.0, 3.0, 3.0, 13.0, 5.0, 64.0, 2.0, 26.0, 26.0, 24.0, 5.0, 3.0, 10.0, 13.0, 3.0, 56.0, 3.0, 13.0, 26.0, 26.0, 26.0, 13.0, 13.0, 64.0, 5.0, 6.0, 64.0, 56.0, 10.0, 2.0, 2.0, 64.0, 24.0, 64.0, 64.0, 64.0, 64.0, 64.0, 64.0, 64.0, 64.0, 64.0, 64.0, 64.0, 5.0, 26.0, 26.0, 64.0, 24.0, 10.0, 64.0, 64.0, 64.0, 13.0, 1.0, 24.0, 13.0, 64.0, 10.0, 4.0, 13.0, 10.0, 3.0]}],\n",
       "                        {\"geo\": {\"scope\": \"usa\"}, \"template\": {\"data\": {\"bar\": [{\"error_x\": {\"color\": \"#2a3f5f\"}, \"error_y\": {\"color\": \"#2a3f5f\"}, \"marker\": {\"line\": {\"color\": \"#E5ECF6\", \"width\": 0.5}}, \"type\": \"bar\"}], \"barpolar\": [{\"marker\": {\"line\": {\"color\": \"#E5ECF6\", \"width\": 0.5}}, \"type\": \"barpolar\"}], \"carpet\": [{\"aaxis\": {\"endlinecolor\": \"#2a3f5f\", \"gridcolor\": \"white\", \"linecolor\": \"white\", \"minorgridcolor\": \"white\", \"startlinecolor\": \"#2a3f5f\"}, \"baxis\": {\"endlinecolor\": \"#2a3f5f\", \"gridcolor\": \"white\", \"linecolor\": \"white\", \"minorgridcolor\": \"white\", \"startlinecolor\": \"#2a3f5f\"}, \"type\": \"carpet\"}], \"choropleth\": [{\"colorbar\": {\"outlinewidth\": 0, \"ticks\": \"\"}, \"type\": \"choropleth\"}], \"contour\": [{\"colorbar\": {\"outlinewidth\": 0, \"ticks\": \"\"}, \"colorscale\": [[0.0, \"#0d0887\"], [0.1111111111111111, \"#46039f\"], [0.2222222222222222, \"#7201a8\"], [0.3333333333333333, \"#9c179e\"], [0.4444444444444444, \"#bd3786\"], [0.5555555555555556, \"#d8576b\"], [0.6666666666666666, \"#ed7953\"], [0.7777777777777778, \"#fb9f3a\"], [0.8888888888888888, \"#fdca26\"], [1.0, \"#f0f921\"]], \"type\": \"contour\"}], \"contourcarpet\": [{\"colorbar\": {\"outlinewidth\": 0, \"ticks\": \"\"}, \"type\": \"contourcarpet\"}], \"heatmap\": [{\"colorbar\": {\"outlinewidth\": 0, \"ticks\": \"\"}, \"colorscale\": [[0.0, \"#0d0887\"], [0.1111111111111111, \"#46039f\"], [0.2222222222222222, \"#7201a8\"], [0.3333333333333333, \"#9c179e\"], [0.4444444444444444, \"#bd3786\"], [0.5555555555555556, \"#d8576b\"], [0.6666666666666666, \"#ed7953\"], [0.7777777777777778, \"#fb9f3a\"], [0.8888888888888888, \"#fdca26\"], [1.0, \"#f0f921\"]], \"type\": \"heatmap\"}], \"heatmapgl\": [{\"colorbar\": {\"outlinewidth\": 0, \"ticks\": \"\"}, \"colorscale\": [[0.0, \"#0d0887\"], [0.1111111111111111, \"#46039f\"], [0.2222222222222222, \"#7201a8\"], [0.3333333333333333, \"#9c179e\"], [0.4444444444444444, \"#bd3786\"], [0.5555555555555556, \"#d8576b\"], [0.6666666666666666, \"#ed7953\"], [0.7777777777777778, \"#fb9f3a\"], [0.8888888888888888, \"#fdca26\"], [1.0, \"#f0f921\"]], \"type\": \"heatmapgl\"}], \"histogram\": [{\"marker\": {\"colorbar\": {\"outlinewidth\": 0, \"ticks\": \"\"}}, \"type\": \"histogram\"}], \"histogram2d\": [{\"colorbar\": {\"outlinewidth\": 0, \"ticks\": \"\"}, \"colorscale\": [[0.0, \"#0d0887\"], [0.1111111111111111, \"#46039f\"], [0.2222222222222222, \"#7201a8\"], [0.3333333333333333, \"#9c179e\"], [0.4444444444444444, \"#bd3786\"], [0.5555555555555556, \"#d8576b\"], [0.6666666666666666, \"#ed7953\"], [0.7777777777777778, \"#fb9f3a\"], [0.8888888888888888, \"#fdca26\"], [1.0, \"#f0f921\"]], \"type\": \"histogram2d\"}], \"histogram2dcontour\": [{\"colorbar\": {\"outlinewidth\": 0, \"ticks\": \"\"}, \"colorscale\": [[0.0, \"#0d0887\"], [0.1111111111111111, \"#46039f\"], [0.2222222222222222, \"#7201a8\"], [0.3333333333333333, \"#9c179e\"], [0.4444444444444444, \"#bd3786\"], [0.5555555555555556, \"#d8576b\"], [0.6666666666666666, \"#ed7953\"], [0.7777777777777778, \"#fb9f3a\"], [0.8888888888888888, \"#fdca26\"], [1.0, \"#f0f921\"]], \"type\": \"histogram2dcontour\"}], \"mesh3d\": [{\"colorbar\": {\"outlinewidth\": 0, \"ticks\": \"\"}, \"type\": \"mesh3d\"}], \"parcoords\": [{\"line\": {\"colorbar\": {\"outlinewidth\": 0, \"ticks\": \"\"}}, \"type\": \"parcoords\"}], \"pie\": [{\"automargin\": true, \"type\": \"pie\"}], \"scatter\": [{\"marker\": {\"colorbar\": {\"outlinewidth\": 0, \"ticks\": \"\"}}, \"type\": \"scatter\"}], \"scatter3d\": [{\"line\": {\"colorbar\": {\"outlinewidth\": 0, \"ticks\": \"\"}}, \"marker\": {\"colorbar\": {\"outlinewidth\": 0, \"ticks\": \"\"}}, \"type\": \"scatter3d\"}], \"scattercarpet\": [{\"marker\": {\"colorbar\": {\"outlinewidth\": 0, \"ticks\": \"\"}}, \"type\": \"scattercarpet\"}], \"scattergeo\": [{\"marker\": {\"colorbar\": {\"outlinewidth\": 0, \"ticks\": \"\"}}, \"type\": \"scattergeo\"}], \"scattergl\": [{\"marker\": {\"colorbar\": {\"outlinewidth\": 0, \"ticks\": \"\"}}, \"type\": \"scattergl\"}], \"scattermapbox\": [{\"marker\": {\"colorbar\": {\"outlinewidth\": 0, \"ticks\": \"\"}}, \"type\": \"scattermapbox\"}], \"scatterpolar\": [{\"marker\": {\"colorbar\": {\"outlinewidth\": 0, \"ticks\": \"\"}}, \"type\": \"scatterpolar\"}], \"scatterpolargl\": [{\"marker\": {\"colorbar\": {\"outlinewidth\": 0, \"ticks\": \"\"}}, \"type\": \"scatterpolargl\"}], \"scatterternary\": [{\"marker\": {\"colorbar\": {\"outlinewidth\": 0, \"ticks\": \"\"}}, \"type\": \"scatterternary\"}], \"surface\": [{\"colorbar\": {\"outlinewidth\": 0, \"ticks\": \"\"}, \"colorscale\": [[0.0, \"#0d0887\"], [0.1111111111111111, \"#46039f\"], [0.2222222222222222, \"#7201a8\"], [0.3333333333333333, \"#9c179e\"], [0.4444444444444444, \"#bd3786\"], [0.5555555555555556, \"#d8576b\"], [0.6666666666666666, \"#ed7953\"], [0.7777777777777778, \"#fb9f3a\"], [0.8888888888888888, \"#fdca26\"], [1.0, \"#f0f921\"]], \"type\": \"surface\"}], \"table\": [{\"cells\": {\"fill\": {\"color\": \"#EBF0F8\"}, \"line\": {\"color\": \"white\"}}, \"header\": {\"fill\": {\"color\": \"#C8D4E3\"}, \"line\": {\"color\": \"white\"}}, \"type\": \"table\"}]}, \"layout\": {\"annotationdefaults\": {\"arrowcolor\": \"#2a3f5f\", \"arrowhead\": 0, \"arrowwidth\": 1}, \"coloraxis\": {\"colorbar\": {\"outlinewidth\": 0, \"ticks\": \"\"}}, \"colorscale\": {\"diverging\": [[0, \"#8e0152\"], [0.1, \"#c51b7d\"], [0.2, \"#de77ae\"], [0.3, \"#f1b6da\"], [0.4, \"#fde0ef\"], [0.5, \"#f7f7f7\"], [0.6, \"#e6f5d0\"], [0.7, \"#b8e186\"], [0.8, \"#7fbc41\"], [0.9, \"#4d9221\"], [1, \"#276419\"]], \"sequential\": [[0.0, \"#0d0887\"], [0.1111111111111111, \"#46039f\"], [0.2222222222222222, \"#7201a8\"], [0.3333333333333333, \"#9c179e\"], [0.4444444444444444, \"#bd3786\"], [0.5555555555555556, \"#d8576b\"], [0.6666666666666666, \"#ed7953\"], [0.7777777777777778, \"#fb9f3a\"], [0.8888888888888888, \"#fdca26\"], [1.0, \"#f0f921\"]], \"sequentialminus\": [[0.0, \"#0d0887\"], [0.1111111111111111, \"#46039f\"], [0.2222222222222222, \"#7201a8\"], [0.3333333333333333, \"#9c179e\"], [0.4444444444444444, \"#bd3786\"], [0.5555555555555556, \"#d8576b\"], [0.6666666666666666, \"#ed7953\"], [0.7777777777777778, \"#fb9f3a\"], [0.8888888888888888, \"#fdca26\"], [1.0, \"#f0f921\"]]}, \"colorway\": [\"#636efa\", \"#EF553B\", \"#00cc96\", \"#ab63fa\", \"#FFA15A\", \"#19d3f3\", \"#FF6692\", \"#B6E880\", \"#FF97FF\", \"#FECB52\"], \"font\": {\"color\": \"#2a3f5f\"}, \"geo\": {\"bgcolor\": \"white\", \"lakecolor\": \"white\", \"landcolor\": \"#E5ECF6\", \"showlakes\": true, \"showland\": true, \"subunitcolor\": \"white\"}, \"hoverlabel\": {\"align\": \"left\"}, \"hovermode\": \"closest\", \"mapbox\": {\"style\": \"light\"}, \"paper_bgcolor\": \"white\", \"plot_bgcolor\": \"#E5ECF6\", \"polar\": {\"angularaxis\": {\"gridcolor\": \"white\", \"linecolor\": \"white\", \"ticks\": \"\"}, \"bgcolor\": \"#E5ECF6\", \"radialaxis\": {\"gridcolor\": \"white\", \"linecolor\": \"white\", \"ticks\": \"\"}}, \"scene\": {\"xaxis\": {\"backgroundcolor\": \"#E5ECF6\", \"gridcolor\": \"white\", \"gridwidth\": 2, \"linecolor\": \"white\", \"showbackground\": true, \"ticks\": \"\", \"zerolinecolor\": \"white\"}, \"yaxis\": {\"backgroundcolor\": \"#E5ECF6\", \"gridcolor\": \"white\", \"gridwidth\": 2, \"linecolor\": \"white\", \"showbackground\": true, \"ticks\": \"\", \"zerolinecolor\": \"white\"}, \"zaxis\": {\"backgroundcolor\": \"#E5ECF6\", \"gridcolor\": \"white\", \"gridwidth\": 2, \"linecolor\": \"white\", \"showbackground\": true, \"ticks\": \"\", \"zerolinecolor\": \"white\"}}, \"shapedefaults\": {\"line\": {\"color\": \"#2a3f5f\"}}, \"ternary\": {\"aaxis\": {\"gridcolor\": \"white\", \"linecolor\": \"white\", \"ticks\": \"\"}, \"baxis\": {\"gridcolor\": \"white\", \"linecolor\": \"white\", \"ticks\": \"\"}, \"bgcolor\": \"#E5ECF6\", \"caxis\": {\"gridcolor\": \"white\", \"linecolor\": \"white\", \"ticks\": \"\"}}, \"title\": {\"x\": 0.05}, \"xaxis\": {\"automargin\": true, \"gridcolor\": \"white\", \"linecolor\": \"white\", \"ticks\": \"\", \"title\": {\"standoff\": 15}, \"zerolinecolor\": \"white\", \"zerolinewidth\": 2}, \"yaxis\": {\"automargin\": true, \"gridcolor\": \"white\", \"linecolor\": \"white\", \"ticks\": \"\", \"title\": {\"standoff\": 15}, \"zerolinecolor\": \"white\", \"zerolinewidth\": 2}}}, \"title\": {\"text\": \"PHIUS Project Map\"}},\n",
       "                        {\"responsive\": true}\n",
       "                    ).then(function(){\n",
       "                            \n",
       "var gd = document.getElementById('547899f1-17ca-4246-8a6f-4feb3941aef7');\n",
       "var x = new MutationObserver(function (mutations, observer) {{\n",
       "        var display = window.getComputedStyle(gd).display;\n",
       "        if (!display || display === 'none') {{\n",
       "            console.log([gd, 'removed!']);\n",
       "            Plotly.purge(gd);\n",
       "            observer.disconnect();\n",
       "        }}\n",
       "}});\n",
       "\n",
       "// Listen for the removal of the full notebook cells\n",
       "var notebookContainer = gd.closest('#notebook-container');\n",
       "if (notebookContainer) {{\n",
       "    x.observe(notebookContainer, {childList: true});\n",
       "}}\n",
       "\n",
       "// Listen for the clearing of the current output cell\n",
       "var outputEl = gd.closest('.output');\n",
       "if (outputEl) {{\n",
       "    x.observe(outputEl, {childList: true});\n",
       "}}\n",
       "\n",
       "                        })\n",
       "                };\n",
       "                });\n",
       "            </script>\n",
       "        </div>"
      ]
     },
     "metadata": {},
     "output_type": "display_data"
    }
   ],
   "source": [
    "# creating a Chropleth Map using plotly.graph_objs\n",
    "data = dict(type='choropleth',\n",
    "            locations = table['state'],\n",
    "            locationmode = 'USA-states',\n",
    "            colorscale = 'Reds',\n",
    "            text = table['state'],\n",
    "            z = table['state_count'],\n",
    "            colorbar = {'title':\"State Count\"}\n",
    "            )\n",
    "layout = dict(title = 'PHIUS Project Map', geo = dict(scope='usa')\n",
    "             )\n",
    "choromap = go.Figure(data = [data], layout = layout)\n",
    "iplot(choromap)"
   ]
  },
  {
   "cell_type": "markdown",
   "metadata": {},
   "source": [
    "#### Geographical Distribution\n",
    "\n",
    "Statewide, Passivehouse projects are concentrated in New York (16%) and Philadelphia (14%) and the followings are Washington (6%), Illinois (6%), and Oregon (6%). (PHIUS headquater is located in Illinois). \n",
    "\n",
    "Globalwide, there are cases out of USA which are in Canada (6%, 27 cases), Korea (1 case), Japan (1 case). The project in Korea is '2012 Yangpyeong Passive House' (Architect: Engineforce Architect, Construction: HAOS)."
   ]
  },
  {
   "cell_type": "markdown",
   "metadata": {},
   "source": [
    "### Summary\n",
    "\n",
    "To summarize, building function wise the majority of the project is 'Single Family' project but we noticed that there is a dramatic increase of 'Multifamily' proejcts during 2018-2019. The vast portion of the project is 'New Construction' and the 'Timber' is the most popular structure. It's noteworthy that that there are not many concrete structures considering the fact that it is the most beneficial structure for heating storage which should not be overlooked in terms of building performance. Moreover, geographically, projects are concentrated in New York (16%) and Philadelphia (14%)."
   ]
  }
 ],
 "metadata": {
  "kernelspec": {
   "display_name": "Python 3",
   "language": "python",
   "name": "python3"
  },
  "language_info": {
   "codemirror_mode": {
    "name": "ipython",
    "version": 3
   },
   "file_extension": ".py",
   "mimetype": "text/x-python",
   "name": "python",
   "nbconvert_exporter": "python",
   "pygments_lexer": "ipython3",
   "version": "3.7.1"
  }
 },
 "nbformat": 4,
 "nbformat_minor": 2
}
